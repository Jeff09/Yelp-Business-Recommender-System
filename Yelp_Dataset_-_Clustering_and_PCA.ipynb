{
 "cells": [
  {
   "cell_type": "markdown",
   "metadata": {},
   "source": [
    "# Yelp Data Challenge - Clustering and PCA\n",
    "\n",
    "BitTiger DS501\n",
    "\n",
    "Nov 2017"
   ]
  },
  {
   "cell_type": "code",
   "execution_count": 1,
   "metadata": {
    "ExecuteTime": {
     "end_time": "2018-01-02T05:42:37.630192Z",
     "start_time": "2018-01-02T05:42:28.246970Z"
    },
    "collapsed": true
   },
   "outputs": [],
   "source": [
    "import pandas as pd\n",
    "import numpy as np\n",
    "import matplotlib.pyplot as plt\n",
    "% matplotlib inline\n",
    "plt.style.use(\"ggplot\")"
   ]
  },
  {
   "cell_type": "code",
   "execution_count": 2,
   "metadata": {
    "ExecuteTime": {
     "end_time": "2018-01-02T05:42:42.173563Z",
     "start_time": "2018-01-02T05:42:37.631624Z"
    },
    "collapsed": true
   },
   "outputs": [],
   "source": [
    "df = pd.read_csv('data/last_3_years_restaurant_reviews.csv')"
   ]
  },
  {
   "cell_type": "code",
   "execution_count": 3,
   "metadata": {
    "ExecuteTime": {
     "end_time": "2018-01-02T02:58:30.147536Z",
     "start_time": "2018-01-02T02:58:30.131990Z"
    }
   },
   "outputs": [
    {
     "data": {
      "text/html": [
       "<div>\n",
       "<style>\n",
       "    .dataframe thead tr:only-child th {\n",
       "        text-align: right;\n",
       "    }\n",
       "\n",
       "    .dataframe thead th {\n",
       "        text-align: left;\n",
       "    }\n",
       "\n",
       "    .dataframe tbody tr th {\n",
       "        vertical-align: top;\n",
       "    }\n",
       "</style>\n",
       "<table border=\"1\" class=\"dataframe\">\n",
       "  <thead>\n",
       "    <tr style=\"text-align: right;\">\n",
       "      <th></th>\n",
       "      <th>business_id</th>\n",
       "      <th>name</th>\n",
       "      <th>categories</th>\n",
       "      <th>avg_stars</th>\n",
       "      <th>cool</th>\n",
       "      <th>date</th>\n",
       "      <th>funny</th>\n",
       "      <th>review_id</th>\n",
       "      <th>stars</th>\n",
       "      <th>text</th>\n",
       "      <th>useful</th>\n",
       "      <th>user_id</th>\n",
       "    </tr>\n",
       "  </thead>\n",
       "  <tbody>\n",
       "    <tr>\n",
       "      <th>0</th>\n",
       "      <td>LDMCrFlGIFUN6L-FEFgzWg</td>\n",
       "      <td>El Pollo Loco</td>\n",
       "      <td>['Restaurants', 'American (Traditional)', 'Mex...</td>\n",
       "      <td>3.0</td>\n",
       "      <td>0</td>\n",
       "      <td>2015-06-26</td>\n",
       "      <td>0</td>\n",
       "      <td>4gH-5f0ewrH2Vvl0UYtQQA</td>\n",
       "      <td>1</td>\n",
       "      <td>I'm at training for work and went for a quick ...</td>\n",
       "      <td>0</td>\n",
       "      <td>GLGz9sSNHIbguwv90XStYA</td>\n",
       "    </tr>\n",
       "    <tr>\n",
       "      <th>1</th>\n",
       "      <td>LDMCrFlGIFUN6L-FEFgzWg</td>\n",
       "      <td>El Pollo Loco</td>\n",
       "      <td>['Restaurants', 'American (Traditional)', 'Mex...</td>\n",
       "      <td>3.0</td>\n",
       "      <td>2</td>\n",
       "      <td>2015-06-18</td>\n",
       "      <td>1</td>\n",
       "      <td>qlnMpBo8_GWhlJE6zR51qA</td>\n",
       "      <td>3</td>\n",
       "      <td>Given this location is close to my work I find...</td>\n",
       "      <td>2</td>\n",
       "      <td>YxqLJwDgcL4OoDB1hN-Ikg</td>\n",
       "    </tr>\n",
       "  </tbody>\n",
       "</table>\n",
       "</div>"
      ],
      "text/plain": [
       "              business_id           name  \\\n",
       "0  LDMCrFlGIFUN6L-FEFgzWg  El Pollo Loco   \n",
       "1  LDMCrFlGIFUN6L-FEFgzWg  El Pollo Loco   \n",
       "\n",
       "                                          categories  avg_stars  cool  \\\n",
       "0  ['Restaurants', 'American (Traditional)', 'Mex...        3.0     0   \n",
       "1  ['Restaurants', 'American (Traditional)', 'Mex...        3.0     2   \n",
       "\n",
       "         date  funny               review_id  stars  \\\n",
       "0  2015-06-26      0  4gH-5f0ewrH2Vvl0UYtQQA      1   \n",
       "1  2015-06-18      1  qlnMpBo8_GWhlJE6zR51qA      3   \n",
       "\n",
       "                                                text  useful  \\\n",
       "0  I'm at training for work and went for a quick ...       0   \n",
       "1  Given this location is close to my work I find...       2   \n",
       "\n",
       "                  user_id  \n",
       "0  GLGz9sSNHIbguwv90XStYA  \n",
       "1  YxqLJwDgcL4OoDB1hN-Ikg  "
      ]
     },
     "execution_count": 3,
     "metadata": {},
     "output_type": "execute_result"
    }
   ],
   "source": [
    "df.head(2)"
   ]
  },
  {
   "cell_type": "markdown",
   "metadata": {},
   "source": [
    "## 1. Cluster the review text data for all the restaurants"
   ]
  },
  {
   "cell_type": "markdown",
   "metadata": {},
   "source": [
    "### Define your feature variables, here is the text of the review"
   ]
  },
  {
   "cell_type": "code",
   "execution_count": 3,
   "metadata": {
    "ExecuteTime": {
     "end_time": "2018-01-02T05:42:50.713938Z",
     "start_time": "2018-01-02T05:42:50.710926Z"
    },
    "collapsed": true
   },
   "outputs": [],
   "source": [
    "# Take the values of the column that contains review text data, save to a variable named \"documents\"\n",
    "documents = df['text'].values"
   ]
  },
  {
   "cell_type": "markdown",
   "metadata": {},
   "source": [
    "### Define your target variable (any categorical variable that may be meaningful)"
   ]
  },
  {
   "cell_type": "markdown",
   "metadata": {},
   "source": [
    "#### For example, I am interested in perfect (5 stars) and imperfect (1-4 stars) rating"
   ]
  },
  {
   "cell_type": "code",
   "execution_count": 4,
   "metadata": {
    "ExecuteTime": {
     "end_time": "2018-01-02T05:42:52.819716Z",
     "start_time": "2018-01-02T05:42:52.814174Z"
    },
    "collapsed": true
   },
   "outputs": [],
   "source": [
    "# Make a column and take the values, save to a variable named \"target\"\n",
    "df['perfect'] = df['stars']>4\n",
    "target = df['perfect'].values"
   ]
  },
  {
   "cell_type": "markdown",
   "metadata": {},
   "source": [
    "#### You may want to look at the statistic of the target variable"
   ]
  },
  {
   "cell_type": "code",
   "execution_count": 88,
   "metadata": {
    "ExecuteTime": {
     "end_time": "2018-01-02T05:23:48.585865Z",
     "start_time": "2018-01-02T05:23:48.581353Z"
    }
   },
   "outputs": [
    {
     "data": {
      "text/plain": [
       "0.45755661403717279"
      ]
     },
     "execution_count": 88,
     "metadata": {},
     "output_type": "execute_result"
    }
   ],
   "source": [
    "# To be implemented\n",
    "target.mean()"
   ]
  },
  {
   "cell_type": "markdown",
   "metadata": {},
   "source": [
    "### Create training dataset and test dataset"
   ]
  },
  {
   "cell_type": "code",
   "execution_count": 8,
   "metadata": {
    "ExecuteTime": {
     "end_time": "2018-01-02T03:01:48.279317Z",
     "start_time": "2018-01-02T03:01:44.499211Z"
    },
    "collapsed": true
   },
   "outputs": [],
   "source": [
    "from sklearn.model_selection import train_test_split"
   ]
  },
  {
   "cell_type": "code",
   "execution_count": 90,
   "metadata": {
    "ExecuteTime": {
     "end_time": "2018-01-02T05:24:22.273664Z",
     "start_time": "2018-01-02T05:24:22.205908Z"
    },
    "collapsed": true
   },
   "outputs": [],
   "source": [
    "# documents is your X, target is your y\n",
    "# Now split the data to training set and test set\n",
    "# You may want to start with a big \"test_size\", since large training set can easily crash your laptop.\n",
    "X_train, X_valid, y_train, y_valid = train_test_split(documents, target, test_size=0.3, random_state=42)"
   ]
  },
  {
   "cell_type": "code",
   "execution_count": 91,
   "metadata": {
    "ExecuteTime": {
     "end_time": "2018-01-02T05:24:22.913177Z",
     "start_time": "2018-01-02T05:24:22.909668Z"
    }
   },
   "outputs": [
    {
     "data": {
      "text/plain": [
       "((306266,), (131258,), (306266,), (131258,))"
      ]
     },
     "execution_count": 91,
     "metadata": {},
     "output_type": "execute_result"
    }
   ],
   "source": [
    "X_train.shape, X_valid.shape, y_train.shape, y_valid.shape"
   ]
  },
  {
   "cell_type": "markdown",
   "metadata": {},
   "source": [
    "### Get NLP representation of the documents\n",
    "\n",
    "#### Fit TfidfVectorizer with training data only, then tranform all the data to tf-idf"
   ]
  },
  {
   "cell_type": "code",
   "execution_count": 10,
   "metadata": {
    "ExecuteTime": {
     "end_time": "2018-01-02T03:01:51.174058Z",
     "start_time": "2018-01-02T03:01:50.979557Z"
    },
    "collapsed": true
   },
   "outputs": [],
   "source": [
    "from sklearn.feature_extraction.text import TfidfVectorizer"
   ]
  },
  {
   "cell_type": "code",
   "execution_count": 92,
   "metadata": {
    "ExecuteTime": {
     "end_time": "2018-01-02T05:24:44.751920Z",
     "start_time": "2018-01-02T05:24:44.741420Z"
    },
    "collapsed": true
   },
   "outputs": [],
   "source": [
    "# Create TfidfVectorizer, and name it vectorizer, choose a reasonable max_features, e.g. 1000\n",
    "vectorizer = TfidfVectorizer(max_features=1000, stop_words='english')"
   ]
  },
  {
   "cell_type": "code",
   "execution_count": 94,
   "metadata": {
    "ExecuteTime": {
     "end_time": "2018-01-02T05:25:21.870336Z",
     "start_time": "2018-01-02T05:25:03.550972Z"
    },
    "collapsed": true
   },
   "outputs": [],
   "source": [
    "# Train the model with your training data\n",
    "vector_train = vectorizer.fit_transform(x_train)"
   ]
  },
  {
   "cell_type": "code",
   "execution_count": 95,
   "metadata": {
    "ExecuteTime": {
     "end_time": "2018-01-02T05:25:22.370667Z",
     "start_time": "2018-01-02T05:25:21.871863Z"
    },
    "collapsed": true
   },
   "outputs": [],
   "source": [
    "vector_train = vector_train.toarray()"
   ]
  },
  {
   "cell_type": "code",
   "execution_count": 23,
   "metadata": {
    "ExecuteTime": {
     "end_time": "2018-01-02T03:10:49.415020Z",
     "start_time": "2018-01-02T03:10:49.403974Z"
    }
   },
   "outputs": [
    {
     "data": {
      "text/plain": [
       "['00',\n",
       " '10',\n",
       " '100',\n",
       " '11',\n",
       " '12',\n",
       " '15',\n",
       " '16',\n",
       " '18',\n",
       " '20',\n",
       " '24',\n",
       " '25',\n",
       " '30',\n",
       " '40',\n",
       " '45',\n",
       " '50',\n",
       " '95',\n",
       " '99',\n",
       " 'able',\n",
       " 'absolutely',\n",
       " 'accommodating',\n",
       " 'actually',\n",
       " 'add',\n",
       " 'added',\n",
       " 'affordable',\n",
       " 'afternoon',\n",
       " 'ago',\n",
       " 'ahead',\n",
       " 'amazing',\n",
       " 'ambiance',\n",
       " 'ambience',\n",
       " 'american',\n",
       " 'appetizer',\n",
       " 'appetizers',\n",
       " 'area',\n",
       " 'aren',\n",
       " 'arrived',\n",
       " 'asada',\n",
       " 'asian',\n",
       " 'ask',\n",
       " 'asked',\n",
       " 'asking',\n",
       " 'ate',\n",
       " 'atmosphere',\n",
       " 'attention',\n",
       " 'attentive',\n",
       " 'attitude',\n",
       " 'authentic',\n",
       " 'available',\n",
       " 'average',\n",
       " 'avocado',\n",
       " 'avoid',\n",
       " 'away',\n",
       " 'awesome',\n",
       " 'awful',\n",
       " 'ayce',\n",
       " 'bacon',\n",
       " 'bad',\n",
       " 'baked',\n",
       " 'banana',\n",
       " 'bar',\n",
       " 'barely',\n",
       " 'bartender',\n",
       " 'bartenders',\n",
       " 'based',\n",
       " 'basic',\n",
       " 'basically',\n",
       " 'bbq',\n",
       " 'bean',\n",
       " 'beans',\n",
       " 'beat',\n",
       " 'beautiful',\n",
       " 'beef',\n",
       " 'beer',\n",
       " 'beers',\n",
       " 'believe',\n",
       " 'bellagio',\n",
       " 'belly',\n",
       " 'benedict',\n",
       " 'best',\n",
       " 'better',\n",
       " 'big',\n",
       " 'birthday',\n",
       " 'bit',\n",
       " 'bite',\n",
       " 'bites',\n",
       " 'black',\n",
       " 'bland',\n",
       " 'blue',\n",
       " 'boba',\n",
       " 'bomb',\n",
       " 'bone',\n",
       " 'bottle',\n",
       " 'bowl',\n",
       " 'bowls',\n",
       " 'box',\n",
       " 'boy',\n",
       " 'boyfriend',\n",
       " 'bread',\n",
       " 'breakfast',\n",
       " 'bring',\n",
       " 'brisket',\n",
       " 'broth',\n",
       " 'brought',\n",
       " 'brown',\n",
       " 'brunch',\n",
       " 'bucks',\n",
       " 'buffet',\n",
       " 'buffets',\n",
       " 'bun',\n",
       " 'burger',\n",
       " 'burgers',\n",
       " 'burnt',\n",
       " 'burrito',\n",
       " 'business',\n",
       " 'busy',\n",
       " 'butter',\n",
       " 'buy',\n",
       " 'caesar',\n",
       " 'cafe',\n",
       " 'cake',\n",
       " 'calamari',\n",
       " 'california',\n",
       " 'called',\n",
       " 'came',\n",
       " 'card',\n",
       " 'care',\n",
       " 'carne',\n",
       " 'case',\n",
       " 'cashier',\n",
       " 'casino',\n",
       " 'casual',\n",
       " 'cause',\n",
       " 'center',\n",
       " 'certainly',\n",
       " 'chance',\n",
       " 'change',\n",
       " 'changed',\n",
       " 'charge',\n",
       " 'charged',\n",
       " 'cheap',\n",
       " 'check',\n",
       " 'checked',\n",
       " 'checking',\n",
       " 'cheese',\n",
       " 'cheesecake',\n",
       " 'chef',\n",
       " 'chefs',\n",
       " 'chewy',\n",
       " 'chicken',\n",
       " 'chili',\n",
       " 'chinese',\n",
       " 'chipotle',\n",
       " 'chips',\n",
       " 'chocolate',\n",
       " 'choice',\n",
       " 'choices',\n",
       " 'choose',\n",
       " 'chose',\n",
       " 'city',\n",
       " 'classic',\n",
       " 'clean',\n",
       " 'clearly',\n",
       " 'close',\n",
       " 'closed',\n",
       " 'club',\n",
       " 'cocktail',\n",
       " 'cocktails',\n",
       " 'coconut',\n",
       " 'coffee',\n",
       " 'cold',\n",
       " 'combination',\n",
       " 'combo',\n",
       " 'come',\n",
       " 'comes',\n",
       " 'comfortable',\n",
       " 'coming',\n",
       " 'compared',\n",
       " 'complaint',\n",
       " 'completely',\n",
       " 'complimentary',\n",
       " 'considering',\n",
       " 'convenient',\n",
       " 'cook',\n",
       " 'cooked',\n",
       " 'cooking',\n",
       " 'cool',\n",
       " 'corn',\n",
       " 'corner',\n",
       " 'cost',\n",
       " 'couldn',\n",
       " 'counter',\n",
       " 'couple',\n",
       " 'course',\n",
       " 'crab',\n",
       " 'craving',\n",
       " 'crazy',\n",
       " 'cream',\n",
       " 'creamy',\n",
       " 'crepe',\n",
       " 'crisp',\n",
       " 'crispy',\n",
       " 'crowded',\n",
       " 'crunchy',\n",
       " 'crust',\n",
       " 'cuisine',\n",
       " 'cup',\n",
       " 'curry',\n",
       " 'customer',\n",
       " 'customers',\n",
       " 'cut',\n",
       " 'cute',\n",
       " 'damn',\n",
       " 'dark',\n",
       " 'date',\n",
       " 'daughter',\n",
       " 'day',\n",
       " 'days',\n",
       " 'deal',\n",
       " 'decent',\n",
       " 'decided',\n",
       " 'decor',\n",
       " 'deep',\n",
       " 'definitely',\n",
       " 'delicious',\n",
       " 'delish',\n",
       " 'delivered',\n",
       " 'delivery',\n",
       " 'desert',\n",
       " 'despite',\n",
       " 'dessert',\n",
       " 'desserts',\n",
       " 'did',\n",
       " 'didn',\n",
       " 'die',\n",
       " 'different',\n",
       " 'dim',\n",
       " 'dine',\n",
       " 'dining',\n",
       " 'dinner',\n",
       " 'dip',\n",
       " 'dirty',\n",
       " 'disappoint',\n",
       " 'disappointed',\n",
       " 'disappointing',\n",
       " 'disappointment',\n",
       " 'dish',\n",
       " 'dishes',\n",
       " 'does',\n",
       " 'doesn',\n",
       " 'dog',\n",
       " 'doing',\n",
       " 'dollars',\n",
       " 'don',\n",
       " 'dont',\n",
       " 'door',\n",
       " 'double',\n",
       " 'downtown',\n",
       " 'dressing',\n",
       " 'drink',\n",
       " 'drinks',\n",
       " 'drive',\n",
       " 'dry',\n",
       " 'duck',\n",
       " 'early',\n",
       " 'easily',\n",
       " 'easy',\n",
       " 'eat',\n",
       " 'eaten',\n",
       " 'eating',\n",
       " 'egg',\n",
       " 'eggs',\n",
       " 'employee',\n",
       " 'employees',\n",
       " 'end',\n",
       " 'ended',\n",
       " 'enjoy',\n",
       " 'enjoyed',\n",
       " 'entire',\n",
       " 'entree',\n",
       " 'entrees',\n",
       " 'environment',\n",
       " 'especially',\n",
       " 'establishment',\n",
       " 'evening',\n",
       " 'exactly',\n",
       " 'excellent',\n",
       " 'exceptional',\n",
       " 'excited',\n",
       " 'expect',\n",
       " 'expectations',\n",
       " 'expected',\n",
       " 'expecting',\n",
       " 'expensive',\n",
       " 'experience',\n",
       " 'explained',\n",
       " 'extra',\n",
       " 'extremely',\n",
       " 'eye',\n",
       " 'fabulous',\n",
       " 'face',\n",
       " 'fact',\n",
       " 'fair',\n",
       " 'fairly',\n",
       " 'family',\n",
       " 'fan',\n",
       " 'fancy',\n",
       " 'fantastic',\n",
       " 'far',\n",
       " 'fast',\n",
       " 'fat',\n",
       " 'favorite',\n",
       " 'favorites',\n",
       " 'feel',\n",
       " 'feeling',\n",
       " 'felt',\n",
       " 'filet',\n",
       " 'filled',\n",
       " 'filling',\n",
       " 'finally',\n",
       " 'fine',\n",
       " 'finish',\n",
       " 'finished',\n",
       " 'fish',\n",
       " 'fix',\n",
       " 'flavor',\n",
       " 'flavorful',\n",
       " 'flavors',\n",
       " 'floor',\n",
       " 'food',\n",
       " 'foods',\n",
       " 'forever',\n",
       " 'forget',\n",
       " 'forgot',\n",
       " 'forward',\n",
       " 'free',\n",
       " 'french',\n",
       " 'fresh',\n",
       " 'friday',\n",
       " 'fried',\n",
       " 'friend',\n",
       " 'friendly',\n",
       " 'friends',\n",
       " 'fries',\n",
       " 'frozen',\n",
       " 'fruit',\n",
       " 'fun',\n",
       " 'game',\n",
       " 'garlic',\n",
       " 'gave',\n",
       " 'gem',\n",
       " 'generous',\n",
       " 'gets',\n",
       " 'getting',\n",
       " 'girl',\n",
       " 'girlfriend',\n",
       " 'girls',\n",
       " 'given',\n",
       " 'giving',\n",
       " 'glad',\n",
       " 'glass',\n",
       " 'gluten',\n",
       " 'goes',\n",
       " 'going',\n",
       " 'gone',\n",
       " 'good',\n",
       " 'got',\n",
       " 'gotten',\n",
       " 'grab',\n",
       " 'gravy',\n",
       " 'greasy',\n",
       " 'great',\n",
       " 'green',\n",
       " 'greeted',\n",
       " 'grill',\n",
       " 'grilled',\n",
       " 'group',\n",
       " 'guacamole',\n",
       " 'guess',\n",
       " 'guests',\n",
       " 'guy',\n",
       " 'guys',\n",
       " 'half',\n",
       " 'ham',\n",
       " 'hand',\n",
       " 'hands',\n",
       " 'happened',\n",
       " 'happy',\n",
       " 'hard',\n",
       " 'hash',\n",
       " 'hate',\n",
       " 'haven',\n",
       " 'having',\n",
       " 'hawaiian',\n",
       " 'head',\n",
       " 'healthy',\n",
       " 'hear',\n",
       " 'heard',\n",
       " 'heat',\n",
       " 'heavy',\n",
       " 'help',\n",
       " 'helped',\n",
       " 'helpful',\n",
       " 'hidden',\n",
       " 'high',\n",
       " 'highly',\n",
       " 'hit',\n",
       " 'home',\n",
       " 'homemade',\n",
       " 'honestly',\n",
       " 'honey',\n",
       " 'hope',\n",
       " 'horrible',\n",
       " 'host',\n",
       " 'hostess',\n",
       " 'hot',\n",
       " 'hotel',\n",
       " 'hour',\n",
       " 'hours',\n",
       " 'house',\n",
       " 'hubby',\n",
       " 'huge',\n",
       " 'hungry',\n",
       " 'husband',\n",
       " 'ice',\n",
       " 'iced',\n",
       " 'idea',\n",
       " 'im',\n",
       " 'immediately',\n",
       " 'impressed',\n",
       " 'included',\n",
       " 'including',\n",
       " 'incredible',\n",
       " 'incredibly',\n",
       " 'indian',\n",
       " 'ingredients',\n",
       " 'inside',\n",
       " 'instead',\n",
       " 'interesting',\n",
       " 'isn',\n",
       " 'issue',\n",
       " 'italian',\n",
       " 'item',\n",
       " 'items',\n",
       " 'japanese',\n",
       " 'job',\n",
       " 'joint',\n",
       " 'juice',\n",
       " 'juicy',\n",
       " 'just',\n",
       " 'kept',\n",
       " 'kids',\n",
       " 'kind',\n",
       " 'kinda',\n",
       " 'king',\n",
       " 'kitchen',\n",
       " 'knew',\n",
       " 'know',\n",
       " 'korean',\n",
       " 'la',\n",
       " 'lack',\n",
       " 'lady',\n",
       " 'lamb',\n",
       " 'large',\n",
       " 'las',\n",
       " 'late',\n",
       " 'later',\n",
       " 'leave',\n",
       " 'leaving',\n",
       " 'left',\n",
       " 'legs',\n",
       " 'lemon',\n",
       " 'let',\n",
       " 'lettuce',\n",
       " 'level',\n",
       " 'life',\n",
       " 'light',\n",
       " 'like',\n",
       " 'liked',\n",
       " 'limited',\n",
       " 'line',\n",
       " 'lines',\n",
       " 'list',\n",
       " 'literally',\n",
       " 'little',\n",
       " 'live',\n",
       " 'll',\n",
       " 'lobster',\n",
       " 'local',\n",
       " 'located',\n",
       " 'location',\n",
       " 'locations',\n",
       " 'lol',\n",
       " 'long',\n",
       " 'longer',\n",
       " 'look',\n",
       " 'looked',\n",
       " 'looking',\n",
       " 'looks',\n",
       " 'lot',\n",
       " 'lots',\n",
       " 'loud',\n",
       " 'love',\n",
       " 'loved',\n",
       " 'lovely',\n",
       " 'low',\n",
       " 'lunch',\n",
       " 'mac',\n",
       " 'main',\n",
       " 'make',\n",
       " 'makes',\n",
       " 'making',\n",
       " 'mall',\n",
       " 'man',\n",
       " 'management',\n",
       " 'manager',\n",
       " 'mango',\n",
       " 'margarita',\n",
       " 'mashed',\n",
       " 'matter',\n",
       " 'maybe',\n",
       " 'meal',\n",
       " 'meals',\n",
       " 'mean',\n",
       " 'meat',\n",
       " 'meatballs',\n",
       " 'meats',\n",
       " 'mediocre',\n",
       " 'medium',\n",
       " 'mention',\n",
       " 'mentioned',\n",
       " 'menu',\n",
       " 'menus',\n",
       " 'mexican',\n",
       " 'middle',\n",
       " 'milk',\n",
       " 'min',\n",
       " 'mind',\n",
       " 'mins',\n",
       " 'minute',\n",
       " 'minutes',\n",
       " 'miso',\n",
       " 'miss',\n",
       " 'missing',\n",
       " 'mix',\n",
       " 'mixed',\n",
       " 'modern',\n",
       " 'moist',\n",
       " 'mom',\n",
       " 'money',\n",
       " 'month',\n",
       " 'months',\n",
       " 'morning',\n",
       " 'mouth',\n",
       " 'moved',\n",
       " 'multiple',\n",
       " 'mushroom',\n",
       " 'mushrooms',\n",
       " 'music',\n",
       " 'nachos',\n",
       " 'near',\n",
       " 'need',\n",
       " 'needed',\n",
       " 'needs',\n",
       " 'new',\n",
       " 'nice',\n",
       " 'nicely',\n",
       " 'night',\n",
       " 'non',\n",
       " 'noodle',\n",
       " 'noodles',\n",
       " 'normal',\n",
       " 'normally',\n",
       " 'notch',\n",
       " 'note',\n",
       " 'noticed',\n",
       " 'number',\n",
       " 'ny',\n",
       " 'obviously',\n",
       " 'offer',\n",
       " 'offered',\n",
       " 'oh',\n",
       " 'oil',\n",
       " 'ok',\n",
       " 'okay',\n",
       " 'old',\n",
       " 'omg',\n",
       " 'ones',\n",
       " 'onion',\n",
       " 'onions',\n",
       " 'online',\n",
       " 'open',\n",
       " 'opened',\n",
       " 'opinion',\n",
       " 'option',\n",
       " 'options',\n",
       " 'orange',\n",
       " 'order',\n",
       " 'ordered',\n",
       " 'ordering',\n",
       " 'orders',\n",
       " 'original',\n",
       " 'outside',\n",
       " 'outstanding',\n",
       " 'overall',\n",
       " 'overly',\n",
       " 'overpriced',\n",
       " 'owner',\n",
       " 'oysters',\n",
       " 'packed',\n",
       " 'pad',\n",
       " 'paid',\n",
       " 'pancakes',\n",
       " 'par',\n",
       " 'park',\n",
       " 'parking',\n",
       " 'party',\n",
       " 'pass',\n",
       " 'past',\n",
       " 'pasta',\n",
       " 'patio',\n",
       " 'pay',\n",
       " 'paying',\n",
       " 'people',\n",
       " 'pepper',\n",
       " 'peppers',\n",
       " 'perfect',\n",
       " 'perfection',\n",
       " 'perfectly',\n",
       " 'person',\n",
       " 'personally',\n",
       " 'phenomenal',\n",
       " 'pho',\n",
       " 'phone',\n",
       " 'pick',\n",
       " 'picked',\n",
       " 'pie',\n",
       " 'piece',\n",
       " 'pieces',\n",
       " 'pizza',\n",
       " 'pizzas',\n",
       " 'place',\n",
       " 'placed',\n",
       " 'places',\n",
       " 'plain',\n",
       " 'plan',\n",
       " 'plate',\n",
       " 'plates',\n",
       " 'platter',\n",
       " 'play',\n",
       " 'playing',\n",
       " 'pleasant',\n",
       " 'plenty',\n",
       " 'plus',\n",
       " 'pm',\n",
       " 'point',\n",
       " 'poke',\n",
       " 'polite',\n",
       " 'pool',\n",
       " 'poor',\n",
       " 'popular',\n",
       " 'pork',\n",
       " 'portion',\n",
       " 'portions',\n",
       " 'pot',\n",
       " 'potato',\n",
       " 'potatoes',\n",
       " 'prefer',\n",
       " 'prepared',\n",
       " 'presentation',\n",
       " 'pretty',\n",
       " 'price',\n",
       " 'priced',\n",
       " 'prices',\n",
       " 'pricey',\n",
       " 'prime',\n",
       " 'probably',\n",
       " 'problem',\n",
       " 'professional',\n",
       " 'pudding',\n",
       " 'pulled',\n",
       " 'quality',\n",
       " 'quick',\n",
       " 'quickly',\n",
       " 'quite',\n",
       " 'ramen',\n",
       " 'ranch',\n",
       " 'rare',\n",
       " 'rating',\n",
       " 'raw',\n",
       " 'read',\n",
       " 'ready',\n",
       " 'real',\n",
       " 'really',\n",
       " 'reason',\n",
       " 'reasonable',\n",
       " 'received',\n",
       " 'recently',\n",
       " 'recommend',\n",
       " 'recommendations',\n",
       " 'recommended',\n",
       " 'red',\n",
       " 'refill',\n",
       " 'refills',\n",
       " 'refreshing',\n",
       " 'regular',\n",
       " 'remember',\n",
       " 'reservation',\n",
       " 'reservations',\n",
       " 'rest',\n",
       " 'restaurant',\n",
       " 'restaurants',\n",
       " 'return',\n",
       " 'returning',\n",
       " 'review',\n",
       " 'reviews',\n",
       " 'rib',\n",
       " 'ribeye',\n",
       " 'ribs',\n",
       " 'rice',\n",
       " 'rich',\n",
       " 'ridiculous',\n",
       " 'right',\n",
       " 'rings',\n",
       " 'roast',\n",
       " 'roasted',\n",
       " 'rock',\n",
       " 'roll',\n",
       " 'rolls',\n",
       " 'room',\n",
       " 'rude',\n",
       " 'run',\n",
       " 'sad',\n",
       " 'said',\n",
       " 'salad',\n",
       " 'salads',\n",
       " 'salmon',\n",
       " 'salsa',\n",
       " 'salt',\n",
       " 'salty',\n",
       " 'sandwich',\n",
       " 'sandwiches',\n",
       " 'sashimi',\n",
       " 'sat',\n",
       " 'satisfied',\n",
       " 'saturday',\n",
       " 'sauce',\n",
       " 'sauces',\n",
       " 'sausage',\n",
       " 'save',\n",
       " 'saw',\n",
       " 'say',\n",
       " 'saying',\n",
       " 'says',\n",
       " 'scallops',\n",
       " 'sea',\n",
       " 'seafood',\n",
       " 'seasoned',\n",
       " 'seasoning',\n",
       " 'seat',\n",
       " 'seated',\n",
       " 'seating',\n",
       " 'seats',\n",
       " 'second',\n",
       " 'section',\n",
       " 'seeing',\n",
       " 'seen',\n",
       " 'selection',\n",
       " 'selections',\n",
       " 'seriously',\n",
       " 'serve',\n",
       " 'served',\n",
       " 'server',\n",
       " 'servers',\n",
       " 'service',\n",
       " 'serving',\n",
       " 'set',\n",
       " 'shack',\n",
       " 'shake',\n",
       " 'share',\n",
       " 'shared',\n",
       " 'shop',\n",
       " 'short',\n",
       " 'shot',\n",
       " 'showed',\n",
       " 'shrimp',\n",
       " 'sides',\n",
       " 'sign',\n",
       " 'similar',\n",
       " 'simple',\n",
       " 'simply',\n",
       " 'single',\n",
       " 'sit',\n",
       " 'sitting',\n",
       " 'size',\n",
       " 'slice',\n",
       " 'slices',\n",
       " 'sliders',\n",
       " 'slightly',\n",
       " 'slow',\n",
       " 'small',\n",
       " 'smaller',\n",
       " 'smile',\n",
       " 'soda',\n",
       " 'soft',\n",
       " 'soggy',\n",
       " 'solid',\n",
       " 'son',\n",
       " 'soon',\n",
       " 'sorry',\n",
       " 'soup',\n",
       " 'sour',\n",
       " 'space',\n",
       " 'speak',\n",
       " 'special',\n",
       " 'specials',\n",
       " 'spend',\n",
       " 'spent',\n",
       " 'spice',\n",
       " 'spicy',\n",
       " 'spinach',\n",
       " 'split',\n",
       " 'spot',\n",
       " 'spots',\n",
       " 'spring',\n",
       " 'staff',\n",
       " 'stand',\n",
       " 'standard',\n",
       " 'star',\n",
       " 'stars',\n",
       " 'start',\n",
       " 'started',\n",
       " 'station',\n",
       " 'stay',\n",
       " 'stayed',\n",
       " 'staying',\n",
       " 'steak',\n",
       " 'steakhouse',\n",
       " 'steaks',\n",
       " 'stick',\n",
       " 'stop',\n",
       " 'stopped',\n",
       " 'store',\n",
       " 'strawberry',\n",
       " 'street',\n",
       " 'strip',\n",
       " 'strong',\n",
       " 'stuff',\n",
       " 'stuffed',\n",
       " 'style',\n",
       " 'sugar',\n",
       " 'suggest',\n",
       " 'sum',\n",
       " 'sunday',\n",
       " 'super',\n",
       " 'supposed',\n",
       " 'sure',\n",
       " 'surprise',\n",
       " 'surprised',\n",
       " 'sushi',\n",
       " 'sweet',\n",
       " 'table',\n",
       " 'tables',\n",
       " 'taco',\n",
       " 'tacos',\n",
       " 'taken',\n",
       " 'takes',\n",
       " 'taking',\n",
       " 'talk',\n",
       " 'talking',\n",
       " 'taste',\n",
       " 'tasted',\n",
       " 'tastes',\n",
       " 'tasting',\n",
       " 'tasty',\n",
       " 'tea',\n",
       " 'tell',\n",
       " 'tempura',\n",
       " 'tender',\n",
       " 'terrible',\n",
       " 'texture',\n",
       " 'thai',\n",
       " 'thank',\n",
       " 'thanks',\n",
       " 'thing',\n",
       " 'things',\n",
       " 'think',\n",
       " 'thinking',\n",
       " 'thought',\n",
       " 'time',\n",
       " 'times',\n",
       " 'tiny',\n",
       " 'tip',\n",
       " 'toast',\n",
       " 'today',\n",
       " 'tofu',\n",
       " 'told',\n",
       " 'tomato',\n",
       " 'tomatoes',\n",
       " 'tonight',\n",
       " 'took',\n",
       " 'topped',\n",
       " 'toppings',\n",
       " 'total',\n",
       " 'totally',\n",
       " 'touch',\n",
       " 'tough',\n",
       " 'town',\n",
       " 'traditional',\n",
       " 'treat',\n",
       " 'tried',\n",
       " 'trip',\n",
       " 'true',\n",
       " 'truffle',\n",
       " 'truly',\n",
       " 'try',\n",
       " 'trying',\n",
       " 'tuna',\n",
       " 'turkey',\n",
       " 'turned',\n",
       " 'twice',\n",
       " 'type',\n",
       " 'typical',\n",
       " 'understand',\n",
       " 'unfortunately',\n",
       " 'unique',\n",
       " 'unless',\n",
       " 'use',\n",
       " 'used',\n",
       " 'usual',\n",
       " 'usually',\n",
       " 'value',\n",
       " 'variety',\n",
       " 've',\n",
       " 'vegan',\n",
       " 'vegas',\n",
       " 'vegetables',\n",
       " 'vegetarian',\n",
       " 'veggie',\n",
       " 'veggies',\n",
       " 'vibe',\n",
       " 'view',\n",
       " 'visit',\n",
       " 'visited',\n",
       " 'visiting',\n",
       " 'waffle',\n",
       " 'waffles',\n",
       " 'wait',\n",
       " 'waited',\n",
       " 'waiter',\n",
       " 'waiters',\n",
       " 'waiting',\n",
       " 'waitress',\n",
       " 'walk',\n",
       " 'walked',\n",
       " 'walking',\n",
       " 'wall',\n",
       " 'want',\n",
       " 'wanted',\n",
       " 'warm',\n",
       " 'wasn',\n",
       " 'waste',\n",
       " 'watch',\n",
       " 'watching',\n",
       " 'water',\n",
       " 'way',\n",
       " 'week',\n",
       " 'weekend',\n",
       " 'weird',\n",
       " 'welcoming',\n",
       " 'went',\n",
       " 'weren',\n",
       " 'white',\n",
       " 'wife',\n",
       " 'window',\n",
       " 'wine',\n",
       " 'wings',\n",
       " 'wish',\n",
       " 'won',\n",
       " 'wonderful',\n",
       " 'work',\n",
       " 'worked',\n",
       " 'workers',\n",
       " 'working',\n",
       " 'world',\n",
       " 'worse',\n",
       " 'worst',\n",
       " 'worth',\n",
       " 'wouldn',\n",
       " 'wow',\n",
       " 'wrap',\n",
       " 'write',\n",
       " 'wrong',\n",
       " 'year',\n",
       " 'years',\n",
       " 'yelp',\n",
       " 'yes',\n",
       " 'york',\n",
       " 'young',\n",
       " 'yum',\n",
       " 'yummy']"
      ]
     },
     "execution_count": 23,
     "metadata": {},
     "output_type": "execute_result"
    }
   ],
   "source": [
    "# Get the vocab of your tfidf\n",
    "words = vectorizer.get_feature_names()\n",
    "words"
   ]
  },
  {
   "cell_type": "code",
   "execution_count": 96,
   "metadata": {
    "ExecuteTime": {
     "end_time": "2018-01-02T05:27:44.472095Z",
     "start_time": "2018-01-02T05:27:19.806327Z"
    },
    "collapsed": true
   },
   "outputs": [],
   "source": [
    "# Use the trained model to transform all the reviews\n",
    "document_vector = vectorizer.transform(documents)"
   ]
  },
  {
   "cell_type": "markdown",
   "metadata": {},
   "source": [
    "### Cluster reviews with KMeans"
   ]
  },
  {
   "cell_type": "markdown",
   "metadata": {},
   "source": [
    "#### Fit k-means clustering with the training vectors and apply it on all the data"
   ]
  },
  {
   "cell_type": "code",
   "execution_count": 24,
   "metadata": {
    "ExecuteTime": {
     "end_time": "2018-01-02T03:24:34.482468Z",
     "start_time": "2018-01-02T03:11:04.108203Z"
    }
   },
   "outputs": [
    {
     "data": {
      "text/plain": [
       "KMeans(algorithm='auto', copy_x=True, init='k-means++', max_iter=300,\n",
       "    n_clusters=8, n_init=10, n_jobs=1, precompute_distances='auto',\n",
       "    random_state=None, tol=0.0001, verbose=0)"
      ]
     },
     "execution_count": 24,
     "metadata": {},
     "output_type": "execute_result"
    }
   ],
   "source": [
    "# To be implemented\n",
    "from sklearn.cluster import KMeans\n",
    "\n",
    "kmeans = KMeans()\n",
    "kmeans.fit(vector_train)"
   ]
  },
  {
   "cell_type": "markdown",
   "metadata": {},
   "source": [
    "#### Make predictions on all your data"
   ]
  },
  {
   "cell_type": "code",
   "execution_count": 25,
   "metadata": {
    "ExecuteTime": {
     "end_time": "2018-01-02T03:25:44.027332Z",
     "start_time": "2018-01-02T03:25:42.677010Z"
    }
   },
   "outputs": [
    {
     "name": "stdout",
     "output_type": "stream",
     "text": [
      "Wall time: 1.34 s\n"
     ]
    }
   ],
   "source": [
    "%%time\n",
    "\n",
    "# To be implemented\n",
    "assign_clusters = kmeans.predict(document_vector)"
   ]
  },
  {
   "cell_type": "markdown",
   "metadata": {},
   "source": [
    "#### Inspect the centroids\n",
    "To find out what \"topics\" Kmeans has discovered we must inspect the centroids. Print out the centroids of the Kmeans clustering.\n",
    "\n",
    "   These centroids are simply a bunch of vectors.  To make any sense of them we need to map these vectors back into our 'word space'.  Think of each feature/dimension of the centroid vector as representing the \"average\" review or the average occurances of words for that cluster."
   ]
  },
  {
   "cell_type": "code",
   "execution_count": 28,
   "metadata": {
    "ExecuteTime": {
     "end_time": "2018-01-02T03:26:57.359733Z",
     "start_time": "2018-01-02T03:26:57.355724Z"
    }
   },
   "outputs": [
    {
     "data": {
      "text/plain": [
       "array([[ 0.0028098 ,  0.00727997,  0.00139367, ...,  0.00165885,\n",
       "         0.00228939,  0.00657263],\n",
       "       [ 0.00088903,  0.00497977,  0.0018763 , ...,  0.00119468,\n",
       "         0.00341372,  0.00673086],\n",
       "       [ 0.0025619 ,  0.00857741,  0.00143653, ...,  0.00130349,\n",
       "         0.00603006,  0.00943622],\n",
       "       ..., \n",
       "       [ 0.00090741,  0.00396622,  0.0010776 , ...,  0.00101841,\n",
       "         0.00241381,  0.00670081],\n",
       "       [ 0.0032299 ,  0.00671102,  0.00230786, ...,  0.00144123,\n",
       "         0.00390023,  0.00686196],\n",
       "       [ 0.00173608,  0.0064264 ,  0.00240302, ...,  0.0010691 ,\n",
       "         0.00326212,  0.00744918]])"
      ]
     },
     "execution_count": 28,
     "metadata": {},
     "output_type": "execute_result"
    }
   ],
   "source": [
    "# To be implemented\n",
    "kmeans.cluster_centers_"
   ]
  },
  {
   "cell_type": "code",
   "execution_count": 29,
   "metadata": {
    "ExecuteTime": {
     "end_time": "2018-01-02T03:27:25.302534Z",
     "start_time": "2018-01-02T03:27:25.275486Z"
    }
   },
   "outputs": [
    {
     "data": {
      "text/plain": [
       "283481.23276969278"
      ]
     },
     "execution_count": 29,
     "metadata": {},
     "output_type": "execute_result"
    }
   ],
   "source": [
    "kmeans.inertia_ "
   ]
  },
  {
   "cell_type": "markdown",
   "metadata": {},
   "source": [
    "#### Find the top 10 features for each cluster.\n",
    "For topics we are only really interested in the most present words, i.e. features/dimensions with the greatest representation in the centroid.  Print out the top ten words for each centroid.\n",
    "\n",
    "* Sort each centroid vector to find the top 10 features\n",
    "* Go back to your vectorizer object to find out what words each of these features corresponds to.\n"
   ]
  },
  {
   "cell_type": "code",
   "execution_count": 30,
   "metadata": {
    "ExecuteTime": {
     "end_time": "2018-01-02T03:32:52.436821Z",
     "start_time": "2018-01-02T03:32:52.412737Z"
    },
    "collapsed": true
   },
   "outputs": [],
   "source": [
    "# To be implemented\n",
    "\n",
    "n_feat = 10\n",
    "cluster_centers = kmeans.cluster_centers_.argsort()[:, -1:-n_feat:-1]"
   ]
  },
  {
   "cell_type": "code",
   "execution_count": 31,
   "metadata": {
    "ExecuteTime": {
     "end_time": "2018-01-02T03:32:58.912168Z",
     "start_time": "2018-01-02T03:32:58.907155Z"
    }
   },
   "outputs": [
    {
     "data": {
      "text/plain": [
       "array([[638, 203, 364, 640, 370, 794, 143,  78, 448],\n",
       "       [ 78, 328,  27, 640, 934, 501, 773, 223, 340],\n",
       "       [148, 364, 338, 328, 718, 640, 597, 370, 476],\n",
       "       [109, 342, 110, 364, 777, 143, 640, 328, 370],\n",
       "       [328, 596, 773, 888, 539, 448, 123, 860, 232],\n",
       "       [370, 328, 773, 640, 364, 340,  42,  52, 824],\n",
       "       [364, 328, 640, 476, 692, 448, 773, 597, 564],\n",
       "       [858, 727, 726, 640,  54, 370, 364, 336, 322]], dtype=int64)"
      ]
     },
     "execution_count": 31,
     "metadata": {},
     "output_type": "execute_result"
    }
   ],
   "source": [
    "cluster_centers"
   ]
  },
  {
   "cell_type": "code",
   "execution_count": 33,
   "metadata": {
    "ExecuteTime": {
     "end_time": "2018-01-02T03:44:38.433827Z",
     "start_time": "2018-01-02T03:44:38.428302Z"
    }
   },
   "outputs": [
    {
     "name": "stdout",
     "output_type": "stream",
     "text": [
      "0: pizza, crust, good, place, great, slice, cheese, best, just\n",
      "1: best, food, amazing, place, vegas, love, service, delicious, friendly\n",
      "2: chicken, good, fried, food, rice, place, ordered, great, like\n",
      "3: burger, fries, burgers, good, shake, cheese, place, food, great\n",
      "4: food, order, service, time, minutes, just, came, table, didn\n",
      "5: great, food, service, place, good, friendly, atmosphere, awesome, staff\n",
      "6: good, food, place, like, really, just, service, ordered, nice\n",
      "7: sushi, rolls, roll, place, ayce, great, good, fresh, fish\n"
     ]
    }
   ],
   "source": [
    "for i, centroid in enumerate(cluster_centers):\n",
    "    print(\"%d: %s\" % (i, \", \".join(words[i] for i in centroid)))"
   ]
  },
  {
   "cell_type": "markdown",
   "metadata": {},
   "source": [
    "#### Try different k\n",
    "If you set k == to a different number, how does the top features change?"
   ]
  },
  {
   "cell_type": "code",
   "execution_count": 34,
   "metadata": {
    "ExecuteTime": {
     "end_time": "2018-01-02T04:03:37.978937Z",
     "start_time": "2018-01-02T03:46:46.531854Z"
    }
   },
   "outputs": [
    {
     "data": {
      "text/plain": [
       "KMeans(algorithm='auto', copy_x=True, init='k-means++', max_iter=300,\n",
       "    n_clusters=6, n_init=10, n_jobs=1, precompute_distances='auto',\n",
       "    random_state=None, tol=0.0001, verbose=0)"
      ]
     },
     "execution_count": 34,
     "metadata": {},
     "output_type": "execute_result"
    }
   ],
   "source": [
    "# To be implemented\n",
    "# change k = 6\n",
    "kmeans = KMeans(n_clusters=6)\n",
    "kmeans.fit(tfidf)"
   ]
  },
  {
   "cell_type": "code",
   "execution_count": 37,
   "metadata": {
    "ExecuteTime": {
     "end_time": "2018-01-02T04:13:10.464677Z",
     "start_time": "2018-01-02T04:13:10.117922Z"
    }
   },
   "outputs": [
    {
     "name": "stdout",
     "output_type": "stream",
     "text": [
      "0: pizza, crust, good, place, great, slice, cheese, best, just\n",
      "1: food, order, service, time, just, minutes, like, came, didn\n",
      "2: great, food, service, place, good, amazing, friendly, awesome, atmosphere\n",
      "3: place, food, best, vegas, amazing, love, service, delicious, good\n",
      "4: good, chicken, food, ordered, really, like, place, just, rice\n",
      "5: burger, fries, burgers, good, shake, cheese, place, food, great\n"
     ]
    }
   ],
   "source": [
    "assign_clusters = kmeans.predict(document_vector)\n",
    "\n",
    "n_feat = 10\n",
    "cluster_centers = kmeans.cluster_centers_.argsort()[:, -1:-n_feat:-1]\n",
    "for i, centroid in enumerate(cluster_centers):\n",
    "    print(\"%d: %s\" % (i, \", \".join(words[i] for i in centroid)))"
   ]
  },
  {
   "cell_type": "markdown",
   "metadata": {},
   "source": [
    "#### Print out the rating and review of a random sample of the reviews assigned to each cluster to get a sense of the cluster."
   ]
  },
  {
   "cell_type": "code",
   "execution_count": 39,
   "metadata": {
    "ExecuteTime": {
     "end_time": "2018-01-02T04:14:04.478006Z",
     "start_time": "2018-01-02T04:14:04.221335Z"
    }
   },
   "outputs": [
    {
     "name": "stdout",
     "output_type": "stream",
     "text": [
      "==========\n",
      "Cluster 0:\n",
      "    5 - \n",
      "Delicious! \r\n",
      "Sat at the outside bar on a delightful Friday evening with beautiful weather. \r\n",
      "\r\n",
      "Started with the chicken Caesar. Portion size was perfect and the flavor of the Caesar was on point. \r\n",
      "\r\n",
      "Ordered a large pizza with garlic, spinach, green peppers and mushrooms. Great combination. Pizza was perfect. I really enjoyed it. \r\n",
      "\r\n",
      "Had the $10 dessert trio which was also delish. Comes with 3 desserts of your choice. We chose Oreo cheesecake, cannoli and tiramisu. Paired off with a lovely glass of red. \r\n",
      "\r\n",
      "Service was great, ambiance outside was relaxing and food was perfect. \r\n",
      "We will definitely return.\n",
      "    2 - \n",
      "We got a flyer under our door at the Rio. Ordered pizza... took a hour and they called and said Rio wouldn't let them deliver to the room. Which I know is not true. The people across the hall had good delivered.  Had to go down and meet the driver.  Pizza was not in a warm carrier. Pizza was luke warm.  Asked for plates and red pepper.. we got no paper plates or red pepper... pizza was pretty tasty\n",
      "==========\n",
      "Cluster 1:\n",
      "    1 - \n",
      "Horrible experience with totally well done NY's ordered Medium Rare+. Tired to tell me they were medium and I told them I could go somewhere else and walked out!!  Back to Ruths Chris!!\n",
      "    4 - \n",
      "Ordered out tonight and for the most part was great ! Called in the order and our sandwiches were done in 10 minutes and everything was completed per our order!! \r\n",
      "\r\n",
      "4 stars just because the greeting coming in was not as welcoming as usual ! We come here often and will continue!! Love the sweet tea and all there sandwiches are good !! I had the tuna on wheat and it did not disappoint!!\n",
      "==========\n",
      "Cluster 2:\n",
      "    5 - \n",
      "Great Hawaiian food! This place, hands down, puts out better quality/price/portioned food than any of similar restaurants around here. This is definitely going to be a regular spot for us!\n",
      "    5 - \n",
      "For $60 you can't go wrong. You know you will find something for yourself even if your picky. Plus the free alcohol is great. Not sure what I think about 7 am Jell-O shots...\n",
      "==========\n",
      "Cluster 3:\n",
      "    4 - \n",
      "One of my favorite AYCE spots in town. The fish tastes fresh and lunch and dinner items are the same. Service is great, friendly, and fast!! I recommend the tuna and white tuna nigiri, trust me baby, and sun of the beach. Extensive menu and apparently they have started reservations too.\n",
      "    5 - \n",
      "From LA and was recommended to eat here by several friends. Wow! Best mexican meal ever! Need this place back home. The staff was fantastic and on their game the whole time! Juan Carlos was our host and made our dining experience incredible, what a professional! Now to the food! I dined with 5 family members and we were all blown away! We all had various dishes from basic fare to seafood and none disappointed. The tamales were the best i ever had, so moist they melted in my mouth. So many good things to say about this place! YOU MUST TRY THIS PLACE! 10 stars!\n",
      "==========\n",
      "Cluster 4:\n",
      "    3 - \n",
      "So I actually want to give this place 3.5 stars...but alas I have no such option.\r\n",
      "\r\n",
      "Why?! Do you the...oh so inquisitive minds, observantly inquire...well...something fishy going on with the rice. (Pardon the pun...I know, I know...corny)\r\n",
      "\r\n",
      "Sushi rice is supposed to be big round sticky pressed vinegared grains of rice...well specifically Japanese White rice AKA \"Shari or Sushi-Meshi\"...basically something that specifically complements Sashimi turning it into Nigiri. (Can you tell I really, really, really like Sushi?) I'm not sure what this place uses...but the rice turns out strange. \r\n",
      "\r\n",
      "The cuts of fish over the Nigiri are actually very good...fresh, perfectly proportioned over small servings of rice. But the rice itself is either not done correctly or it is not the right type of grain. I just tastes odd...like an inexperienced Sushi chef made it. One of the other mishaps here was the Rib-Eye I ordered. i requested medium rare, but got it medium...to well. There was nothing rare about it...no pink at all. \r\n",
      "\r\n",
      "Other that that...hands down this is one of the better AYCE places I had the pleasure of dining at. I ordered a fairly long list of items...a bit tedious to list here, so I will only put what I thought was outstanding...but feel free to take a look at a pic of the bill I posted. The Sweet shrimp was very impressive! One of the best I had, considering this is coming from an AYCE restaurant. Succulent, meaty and actually sweet. They even asked me if i wanted the heads fried separately...bonus points! \r\n",
      "\r\n",
      "The service here was very good, I was frequently checked upon, my Tea was refilled regularly and the waitresses were polite and courteous without being overbearing. I came here on a late afternoon, around 4:15, so I might have beaten the crowds...well actually I did, because there were only five other people in the restaurant...so maybe that might have been a factor to consider. All the food came out rather quickly. I was impressed at the promptness my orders were filled.\r\n",
      "\r\n",
      "I will return to try this place again...\n",
      "    3 - \n",
      "The name confuses me, as in the US, first place usually gets a BLUE ribbon and red is given to second place. I wouldn't rate this place #1 bakery or anything, but I'm curious about the name chosen.\r\n",
      "\r\n",
      "I don't care for the ube cake everyone here raves about, but the vivid color is cool. The mango bar is sweeter than expected but not off-putting. \r\n",
      "\r\n",
      "But the empanadas are where it's at! Both times I've been in, they only had beef available so I have yet to try the chicken. Empanadas are kept in a warmer and a good size for the low price. Will continue coming back for these!\n",
      "==========\n",
      "Cluster 5:\n",
      "    4 - \n",
      "Great hidden gem in the south valley. Food is phenomenal, had the pork belly steamy buns and miyagi san burger. Would have been 5 stars but the service was real slow.\n",
      "    3 - \n",
      "I FINALLY TRIED IN-N-OUT BURGER!! I went to Vegas for my birthday and lo and behold there was an In-N-Out Burger down the street from my hotel. This particular location is in between Harrah's and the Linq hotels. I got there around 2AM and I was surprised that it was not packed. The inside is well lit and looks very clean. The menu is extremely small which I thought would mean faster service. Thankfully my friend ordered for me and I got a double animal style with animal style fries. Animal style means thousand island dressing with grilled onions. The burger was delicious! Nice toasted bun, crispy lettuce, perfectly grilled onions, on top of melted cheese on a grilled meat patty. I was more blown away by it at 2AM than at 7PM the next night. The staff was very friendly and patient. They have a ketchup and hot pepper station which I loved because those are two of my favorite things to add to my burger! Now the fries also came animal style. Thankfully because they were not seasoned and were like thin straw fries. Not a fan of those. All in all, the burgers were pretty good but I was not blown away. I'll stick to 5 Guys or even Cookout.\n"
     ]
    },
    {
     "name": "stderr",
     "output_type": "stream",
     "text": [
      "E:\\software\\anaconda\\lib\\site-packages\\ipykernel_launcher.py:10: DeprecationWarning: \n",
      ".ix is deprecated. Please use\n",
      ".loc for label based indexing or\n",
      ".iloc for positional indexing\n",
      "\n",
      "See the documentation here:\n",
      "http://pandas.pydata.org/pandas-docs/stable/indexing.html#ix-indexer-is-deprecated\n",
      "  # Remove the CWD from sys.path while we load stuff.\n"
     ]
    }
   ],
   "source": [
    "# To be implemented\n",
    "# random select sample from each cluster, then display samples with rating\n",
    "\n",
    "for i in range(kmeans.n_clusters):\n",
    "    cluster = np.arange(0, document_vector.shape[0])[assign_clusters==i] # index of cluster\n",
    "    sample_reviews = np.random.choice(cluster, 2, replace=False)\n",
    "    print(\"=\" * 10)\n",
    "    print(\"Cluster %d:\" % i)\n",
    "    for review_index in sample_reviews:\n",
    "        print(\"    %s - \" % df.ix[review_index]['stars'],)\n",
    "        print(\"%s\" % df.ix[review_index]['text'])\n",
    "    print"
   ]
  },
  {
   "cell_type": "markdown",
   "metadata": {},
   "source": [
    "## 2. Cluster all the reviews of the most reviewed restaurant\n",
    "Let's find the most reviewed restaurant and analyze its reviews"
   ]
  },
  {
   "cell_type": "code",
   "execution_count": 5,
   "metadata": {
    "ExecuteTime": {
     "end_time": "2018-01-02T05:43:05.321009Z",
     "start_time": "2018-01-02T05:43:05.230267Z"
    }
   },
   "outputs": [
    {
     "data": {
      "text/plain": [
       "'RESDUcs7fIiihp38-d6_6g'"
      ]
     },
     "execution_count": 5,
     "metadata": {},
     "output_type": "execute_result"
    }
   ],
   "source": [
    "# Find the business who got most reviews, get your filtered df, name it df_top_restaurant\n",
    "most_reviewed_restaurant = df['business_id'].value_counts().idxmax()\n",
    "most_reviewed_restaurant"
   ]
  },
  {
   "cell_type": "markdown",
   "metadata": {},
   "source": [
    "We can also load restaurant profile information from the business dataset (optional)"
   ]
  },
  {
   "cell_type": "code",
   "execution_count": 6,
   "metadata": {
    "ExecuteTime": {
     "end_time": "2018-01-02T05:43:08.475607Z",
     "start_time": "2018-01-02T05:43:08.295343Z"
    }
   },
   "outputs": [
    {
     "data": {
      "text/html": [
       "<div>\n",
       "<style>\n",
       "    .dataframe thead tr:only-child th {\n",
       "        text-align: right;\n",
       "    }\n",
       "\n",
       "    .dataframe thead th {\n",
       "        text-align: left;\n",
       "    }\n",
       "\n",
       "    .dataframe tbody tr th {\n",
       "        vertical-align: top;\n",
       "    }\n",
       "</style>\n",
       "<table border=\"1\" class=\"dataframe\">\n",
       "  <thead>\n",
       "    <tr style=\"text-align: right;\">\n",
       "      <th></th>\n",
       "      <th>index</th>\n",
       "      <th>business_id</th>\n",
       "      <th>name</th>\n",
       "      <th>categories</th>\n",
       "      <th>avg_stars</th>\n",
       "      <th>cool</th>\n",
       "      <th>date</th>\n",
       "      <th>funny</th>\n",
       "      <th>review_id</th>\n",
       "      <th>stars</th>\n",
       "      <th>text</th>\n",
       "      <th>useful</th>\n",
       "      <th>user_id</th>\n",
       "      <th>perfect</th>\n",
       "    </tr>\n",
       "  </thead>\n",
       "  <tbody>\n",
       "    <tr>\n",
       "      <th>0</th>\n",
       "      <td>349300</td>\n",
       "      <td>RESDUcs7fIiihp38-d6_6g</td>\n",
       "      <td>Bacchanal Buffet</td>\n",
       "      <td>['Food', 'Restaurants', 'Buffets', 'Breakfast ...</td>\n",
       "      <td>4.0</td>\n",
       "      <td>0</td>\n",
       "      <td>2015-09-03</td>\n",
       "      <td>0</td>\n",
       "      <td>izAo8yC9pWrYYx_UGHdbgA</td>\n",
       "      <td>5</td>\n",
       "      <td>You had me at DUMPLINGS. Mmmmm such a great bu...</td>\n",
       "      <td>0</td>\n",
       "      <td>OS_sHMLVIcF5JlZQzfYCKA</td>\n",
       "      <td>True</td>\n",
       "    </tr>\n",
       "    <tr>\n",
       "      <th>1</th>\n",
       "      <td>349301</td>\n",
       "      <td>RESDUcs7fIiihp38-d6_6g</td>\n",
       "      <td>Bacchanal Buffet</td>\n",
       "      <td>['Food', 'Restaurants', 'Buffets', 'Breakfast ...</td>\n",
       "      <td>4.0</td>\n",
       "      <td>0</td>\n",
       "      <td>2016-03-29</td>\n",
       "      <td>0</td>\n",
       "      <td>yEILB4Esswy8yEZcikD4Hg</td>\n",
       "      <td>3</td>\n",
       "      <td>Not worth the price of admission! The wait is ...</td>\n",
       "      <td>0</td>\n",
       "      <td>82Micw6atbqgn8-r7oNRKg</td>\n",
       "      <td>False</td>\n",
       "    </tr>\n",
       "  </tbody>\n",
       "</table>\n",
       "</div>"
      ],
      "text/plain": [
       "    index             business_id              name  \\\n",
       "0  349300  RESDUcs7fIiihp38-d6_6g  Bacchanal Buffet   \n",
       "1  349301  RESDUcs7fIiihp38-d6_6g  Bacchanal Buffet   \n",
       "\n",
       "                                          categories  avg_stars  cool  \\\n",
       "0  ['Food', 'Restaurants', 'Buffets', 'Breakfast ...        4.0     0   \n",
       "1  ['Food', 'Restaurants', 'Buffets', 'Breakfast ...        4.0     0   \n",
       "\n",
       "         date  funny               review_id  stars  \\\n",
       "0  2015-09-03      0  izAo8yC9pWrYYx_UGHdbgA      5   \n",
       "1  2016-03-29      0  yEILB4Esswy8yEZcikD4Hg      3   \n",
       "\n",
       "                                                text  useful  \\\n",
       "0  You had me at DUMPLINGS. Mmmmm such a great bu...       0   \n",
       "1  Not worth the price of admission! The wait is ...       0   \n",
       "\n",
       "                  user_id  perfect  \n",
       "0  OS_sHMLVIcF5JlZQzfYCKA     True  \n",
       "1  82Micw6atbqgn8-r7oNRKg    False  "
      ]
     },
     "execution_count": 6,
     "metadata": {},
     "output_type": "execute_result"
    }
   ],
   "source": [
    "# Load business dataset (optional)\n",
    "# Take a look at the most reviewed restaurant's profile (optional)\n",
    "df_top_restaurant = df[df['business_id'] == most_reviewed_restaurant].copy().reset_index()\n",
    "df_top_restaurant.head(2)"
   ]
  },
  {
   "cell_type": "markdown",
   "metadata": {},
   "source": [
    "### Vectorize the text feature"
   ]
  },
  {
   "cell_type": "code",
   "execution_count": 7,
   "metadata": {
    "ExecuteTime": {
     "end_time": "2018-01-02T05:43:11.259226Z",
     "start_time": "2018-01-02T05:43:11.254712Z"
    }
   },
   "outputs": [
    {
     "data": {
      "text/plain": [
       "array([ 'You had me at DUMPLINGS. Mmmmm such a great buffett, probably my new favorite in Las Vegas. Grand selection to choose from and high quality food. Worth the price and wait, I am coming back!',\n",
       "       'Not worth the price of admission! The wait is terribly long! Over an hour just to pay $40 per person. There were no crab legs, lobster, or hot fish dishes. Minimal sushi choices and just about everything you could get at any other buffet for half the price! I will not be back here to eat mediocre food at an exquisite price tag!',\n",
       "       'When it first opened, this place was beyond amazing with quality, food, service, and gourmet items. Throughout the years has gone down considerably, but has remained extremely overpriced for a buffet. As a positive the service and ambience was excellent.'], dtype=object)"
      ]
     },
     "execution_count": 7,
     "metadata": {},
     "output_type": "execute_result"
    }
   ],
   "source": [
    "# Take the values of the column that contains review text data, save to a variable named \"documents_top_restaurant\"\n",
    "documents_top_restaurant = df_top_restaurant['text'].values\n",
    "documents_top_restaurant[:3]"
   ]
  },
  {
   "cell_type": "markdown",
   "metadata": {},
   "source": [
    "### Define your target variable (for later classification use)"
   ]
  },
  {
   "cell_type": "markdown",
   "metadata": {},
   "source": [
    "#### Again, we look at perfect (5 stars) and imperfect (1-4 stars) rating"
   ]
  },
  {
   "cell_type": "code",
   "execution_count": 8,
   "metadata": {
    "ExecuteTime": {
     "end_time": "2018-01-02T05:43:13.660873Z",
     "start_time": "2018-01-02T05:43:13.654857Z"
    }
   },
   "outputs": [
    {
     "data": {
      "text/plain": [
       "array([1, 0, 0, ..., 0, 1, 0])"
      ]
     },
     "execution_count": 8,
     "metadata": {},
     "output_type": "execute_result"
    }
   ],
   "source": [
    "# To be implemented\n",
    "df_top_restaurant['favorable'] = (df_top_restaurant['stars'] > 4)\n",
    "target_top_restaurant = df_top_restaurant['favorable'].values.astype(int)\n",
    "target_top_restaurant"
   ]
  },
  {
   "cell_type": "markdown",
   "metadata": {},
   "source": [
    "#### Check the statistic of the target variable"
   ]
  },
  {
   "cell_type": "code",
   "execution_count": 9,
   "metadata": {
    "ExecuteTime": {
     "end_time": "2018-01-02T05:43:15.922795Z",
     "start_time": "2018-01-02T05:43:15.918284Z"
    }
   },
   "outputs": [
    {
     "data": {
      "text/plain": [
       "0.37763652123663682"
      ]
     },
     "execution_count": 9,
     "metadata": {},
     "output_type": "execute_result"
    }
   ],
   "source": [
    "# To be implemented\n",
    "target_top_restaurant.mean()"
   ]
  },
  {
   "cell_type": "markdown",
   "metadata": {},
   "source": [
    "### Create training dataset and test dataset"
   ]
  },
  {
   "cell_type": "code",
   "execution_count": 11,
   "metadata": {
    "ExecuteTime": {
     "end_time": "2018-01-02T05:43:23.846194Z",
     "start_time": "2018-01-02T05:43:23.649002Z"
    },
    "collapsed": true
   },
   "outputs": [],
   "source": [
    "# documents_top_restaurant is your X, target_top_restaurant is your y\n",
    "# Now split the data to training set and test set\n",
    "# Now your data is smaller, you can use a typical \"test_size\", e.g. 0.3-0.7\n",
    "from sklearn.model_selection import train_test_split\n",
    "\n",
    "X_train, X_test, y_train, y_test = train_test_split(\n",
    "    documents_top_restaurant,\n",
    "    target_top_restaurant, \n",
    "    test_size = 0.3,\n",
    "    random_state = 42)"
   ]
  },
  {
   "cell_type": "code",
   "execution_count": 12,
   "metadata": {
    "ExecuteTime": {
     "end_time": "2018-01-02T05:43:30.585448Z",
     "start_time": "2018-01-02T05:43:30.581437Z"
    }
   },
   "outputs": [
    {
     "data": {
      "text/plain": [
       "((2422,), (1039,), (2422,), (1039,))"
      ]
     },
     "execution_count": 12,
     "metadata": {},
     "output_type": "execute_result"
    }
   ],
   "source": [
    "X_train.shape, X_test.shape, y_train.shape, y_test.shape"
   ]
  },
  {
   "cell_type": "markdown",
   "metadata": {},
   "source": [
    "### Get NLP representation of the documents"
   ]
  },
  {
   "cell_type": "code",
   "execution_count": 13,
   "metadata": {
    "ExecuteTime": {
     "end_time": "2018-01-02T05:43:33.174756Z",
     "start_time": "2018-01-02T05:43:32.871381Z"
    },
    "collapsed": true
   },
   "outputs": [],
   "source": [
    "from sklearn.feature_extraction.text import TfidfVectorizer"
   ]
  },
  {
   "cell_type": "code",
   "execution_count": 14,
   "metadata": {
    "ExecuteTime": {
     "end_time": "2018-01-02T05:43:34.369272Z",
     "start_time": "2018-01-02T05:43:34.366264Z"
    },
    "collapsed": true
   },
   "outputs": [],
   "source": [
    "# Create TfidfVectorizer, and name it vectorizer\n",
    "vectorizer = TfidfVectorizer(max_features=1000, stop_words='english')"
   ]
  },
  {
   "cell_type": "code",
   "execution_count": 19,
   "metadata": {
    "ExecuteTime": {
     "end_time": "2018-01-02T05:45:21.417242Z",
     "start_time": "2018-01-02T05:45:21.214142Z"
    },
    "collapsed": true
   },
   "outputs": [],
   "source": [
    "# Train the model with your training data\n",
    "train_vector = vectorizer.fit_transform(X_train).toarray()"
   ]
  },
  {
   "cell_type": "code",
   "execution_count": 16,
   "metadata": {
    "ExecuteTime": {
     "end_time": "2018-01-02T05:43:45.017627Z",
     "start_time": "2018-01-02T05:43:45.006597Z"
    }
   },
   "outputs": [
    {
     "data": {
      "text/plain": [
       "['00',\n",
       " '10',\n",
       " '100',\n",
       " '11',\n",
       " '12',\n",
       " '15',\n",
       " '18',\n",
       " '20',\n",
       " '25',\n",
       " '30',\n",
       " '30pm',\n",
       " '39',\n",
       " '3pm',\n",
       " '40',\n",
       " '45',\n",
       " '50',\n",
       " '52',\n",
       " '54',\n",
       " '55',\n",
       " '57',\n",
       " '59',\n",
       " '60',\n",
       " '65',\n",
       " '70',\n",
       " '75',\n",
       " '80',\n",
       " '90',\n",
       " '99',\n",
       " 'able',\n",
       " 'absolutely',\n",
       " 'actual',\n",
       " 'actually',\n",
       " 'add',\n",
       " 'added',\n",
       " 'additional',\n",
       " 'afternoon',\n",
       " 'ago',\n",
       " 'agree',\n",
       " 'ahead',\n",
       " 'alaskan',\n",
       " 'alcohol',\n",
       " 'alright',\n",
       " 'amazing',\n",
       " 'ambiance',\n",
       " 'american',\n",
       " 'anymore',\n",
       " 'appetite',\n",
       " 'area',\n",
       " 'aren',\n",
       " 'aria',\n",
       " 'arrive',\n",
       " 'arrived',\n",
       " 'asian',\n",
       " 'ask',\n",
       " 'asked',\n",
       " 'asking',\n",
       " 'assortment',\n",
       " 'ate',\n",
       " 'atmosphere',\n",
       " 'attention',\n",
       " 'attentive',\n",
       " 'authentic',\n",
       " 'available',\n",
       " 'average',\n",
       " 'avoid',\n",
       " 'away',\n",
       " 'awesome',\n",
       " 'awful',\n",
       " 'bacchanal',\n",
       " 'bacon',\n",
       " 'bad',\n",
       " 'baked',\n",
       " 'bar',\n",
       " 'barely',\n",
       " 'based',\n",
       " 'basically',\n",
       " 'bass',\n",
       " 'bbq',\n",
       " 'beautiful',\n",
       " 'beef',\n",
       " 'beer',\n",
       " 'believe',\n",
       " 'bellagio',\n",
       " 'belly',\n",
       " 'benedict',\n",
       " 'best',\n",
       " 'better',\n",
       " 'big',\n",
       " 'bigger',\n",
       " 'biggest',\n",
       " 'birthday',\n",
       " 'bisque',\n",
       " 'bit',\n",
       " 'bite',\n",
       " 'bites',\n",
       " 'bland',\n",
       " 'bloody',\n",
       " 'boba',\n",
       " 'boiled',\n",
       " 'bomb',\n",
       " 'bother',\n",
       " 'bottles',\n",
       " 'bottomless',\n",
       " 'boyfriend',\n",
       " 'bread',\n",
       " 'breakfast',\n",
       " 'bring',\n",
       " 'brisket',\n",
       " 'broth',\n",
       " 'brought',\n",
       " 'brulee',\n",
       " 'brunch',\n",
       " 'brûlée',\n",
       " 'bucks',\n",
       " 'buffet',\n",
       " 'buffets',\n",
       " 'buffett',\n",
       " 'bunch',\n",
       " 'business',\n",
       " 'busy',\n",
       " 'butter',\n",
       " 'caesar',\n",
       " 'caesars',\n",
       " 'cake',\n",
       " 'cakes',\n",
       " 'called',\n",
       " 'came',\n",
       " 'card',\n",
       " 'care',\n",
       " 'carrot',\n",
       " 'carving',\n",
       " 'case',\n",
       " 'cashier',\n",
       " 'casino',\n",
       " 'cause',\n",
       " 'certain',\n",
       " 'certainly',\n",
       " 'ceviche',\n",
       " 'chairs',\n",
       " 'champagne',\n",
       " 'chance',\n",
       " 'change',\n",
       " 'changed',\n",
       " 'charcuterie',\n",
       " 'charge',\n",
       " 'charged',\n",
       " 'cheap',\n",
       " 'cheaper',\n",
       " 'check',\n",
       " 'checked',\n",
       " 'checking',\n",
       " 'cheese',\n",
       " 'cheesecake',\n",
       " 'cheeses',\n",
       " 'chef',\n",
       " 'chefs',\n",
       " 'chewy',\n",
       " 'chicken',\n",
       " 'chilled',\n",
       " 'chinese',\n",
       " 'chocolate',\n",
       " 'choice',\n",
       " 'choices',\n",
       " 'choose',\n",
       " 'chops',\n",
       " 'chose',\n",
       " 'christmas',\n",
       " 'churros',\n",
       " 'clams',\n",
       " 'claws',\n",
       " 'clean',\n",
       " 'clear',\n",
       " 'cleared',\n",
       " 'close',\n",
       " 'cocktail',\n",
       " 'coconut',\n",
       " 'coffee',\n",
       " 'cold',\n",
       " 'come',\n",
       " 'comes',\n",
       " 'coming',\n",
       " 'compare',\n",
       " 'compared',\n",
       " 'complaint',\n",
       " 'completely',\n",
       " 'congee',\n",
       " 'considering',\n",
       " 'constantly',\n",
       " 'cooked',\n",
       " 'cookies',\n",
       " 'cool',\n",
       " 'corn',\n",
       " 'corner',\n",
       " 'cost',\n",
       " 'couldn',\n",
       " 'counter',\n",
       " 'couple',\n",
       " 'course',\n",
       " 'covered',\n",
       " 'crab',\n",
       " 'crabs',\n",
       " 'craving',\n",
       " 'crawfish',\n",
       " 'crazy',\n",
       " 'cream',\n",
       " 'creamy',\n",
       " 'creme',\n",
       " 'crepe',\n",
       " 'crepes',\n",
       " 'crispy',\n",
       " 'crowded',\n",
       " 'cucumber',\n",
       " 'cuisine',\n",
       " 'cuisines',\n",
       " 'cup',\n",
       " 'cupcakes',\n",
       " 'customer',\n",
       " 'customers',\n",
       " 'cut',\n",
       " 'cute',\n",
       " 'cuts',\n",
       " 'cutting',\n",
       " 'damn',\n",
       " 'day',\n",
       " 'days',\n",
       " 'deal',\n",
       " 'decent',\n",
       " 'decided',\n",
       " 'decor',\n",
       " 'definitely',\n",
       " 'delicious',\n",
       " 'depending',\n",
       " 'desert',\n",
       " 'deserts',\n",
       " 'despite',\n",
       " 'dessert',\n",
       " 'desserts',\n",
       " 'diamond',\n",
       " 'did',\n",
       " 'didn',\n",
       " 'die',\n",
       " 'difference',\n",
       " 'different',\n",
       " 'difficult',\n",
       " 'dim',\n",
       " 'dine',\n",
       " 'dining',\n",
       " 'dinner',\n",
       " 'dirty',\n",
       " 'disappoint',\n",
       " 'disappointed',\n",
       " 'disappointing',\n",
       " 'disappointment',\n",
       " 'dish',\n",
       " 'dishes',\n",
       " 'display',\n",
       " 'does',\n",
       " 'doesn',\n",
       " 'doing',\n",
       " 'dollars',\n",
       " 'don',\n",
       " 'dont',\n",
       " 'dried',\n",
       " 'drink',\n",
       " 'drinks',\n",
       " 'dry',\n",
       " 'duck',\n",
       " 'dumplings',\n",
       " 'earlier',\n",
       " 'early',\n",
       " 'easily',\n",
       " 'easter',\n",
       " 'easy',\n",
       " 'eat',\n",
       " 'eaten',\n",
       " 'eater',\n",
       " 'eating',\n",
       " 'egg',\n",
       " 'eggs',\n",
       " 'end',\n",
       " 'ended',\n",
       " 'endless',\n",
       " 'enjoy',\n",
       " 'enjoyed',\n",
       " 'enter',\n",
       " 'entire',\n",
       " 'especially',\n",
       " 'ethnic',\n",
       " 'evening',\n",
       " 'excellent',\n",
       " 'exceptional',\n",
       " 'excited',\n",
       " 'expect',\n",
       " 'expectations',\n",
       " 'expected',\n",
       " 'expecting',\n",
       " 'expensive',\n",
       " 'experience',\n",
       " 'experienced',\n",
       " 'express',\n",
       " 'extra',\n",
       " 'extremely',\n",
       " 'face',\n",
       " 'fact',\n",
       " 'fair',\n",
       " 'fairly',\n",
       " 'family',\n",
       " 'fan',\n",
       " 'fancy',\n",
       " 'fantastic',\n",
       " 'far',\n",
       " 'fast',\n",
       " 'fat',\n",
       " 'favorite',\n",
       " 'favorites',\n",
       " 'feel',\n",
       " 'feeling',\n",
       " 'felt',\n",
       " 'filled',\n",
       " 'filling',\n",
       " 'finally',\n",
       " 'fine',\n",
       " 'finish',\n",
       " 'fish',\n",
       " 'flan',\n",
       " 'flavor',\n",
       " 'flavorful',\n",
       " 'flavors',\n",
       " 'float',\n",
       " 'food',\n",
       " 'foods',\n",
       " 'forever',\n",
       " 'forget',\n",
       " 'forward',\n",
       " 'free',\n",
       " 'french',\n",
       " 'fresh',\n",
       " 'freshly',\n",
       " 'friday',\n",
       " 'fried',\n",
       " 'friend',\n",
       " 'friendly',\n",
       " 'friends',\n",
       " 'fries',\n",
       " 'frozen',\n",
       " 'fruit',\n",
       " 'fruits',\n",
       " 'fudge',\n",
       " 'fun',\n",
       " 'gave',\n",
       " 'gelato',\n",
       " 'general',\n",
       " 'gets',\n",
       " 'getting',\n",
       " 'given',\n",
       " 'giving',\n",
       " 'glad',\n",
       " 'glass',\n",
       " 'glasses',\n",
       " 'god',\n",
       " 'goes',\n",
       " 'going',\n",
       " 'gone',\n",
       " 'gonna',\n",
       " 'good',\n",
       " 'got',\n",
       " 'gotta',\n",
       " 'gotten',\n",
       " 'gourmet',\n",
       " 'grab',\n",
       " 'grabbed',\n",
       " 'gratuity',\n",
       " 'great',\n",
       " 'green',\n",
       " 'grits',\n",
       " 'gross',\n",
       " 'group',\n",
       " 'groupon',\n",
       " 'groups',\n",
       " 'guava',\n",
       " 'guess',\n",
       " 'guests',\n",
       " 'guy',\n",
       " 'guys',\n",
       " 'haha',\n",
       " 'half',\n",
       " 'hand',\n",
       " 'hands',\n",
       " 'happened',\n",
       " 'happy',\n",
       " 'hard',\n",
       " 'hate',\n",
       " 'haven',\n",
       " 'having',\n",
       " 'head',\n",
       " 'heard',\n",
       " 'heat',\n",
       " 'heaven',\n",
       " 'help',\n",
       " 'helpful',\n",
       " 'high',\n",
       " 'higher',\n",
       " 'highlight',\n",
       " 'highlights',\n",
       " 'highly',\n",
       " 'hit',\n",
       " 'holiday',\n",
       " 'holidays',\n",
       " 'home',\n",
       " 'honestly',\n",
       " 'hope',\n",
       " 'horchata',\n",
       " 'horrible',\n",
       " 'host',\n",
       " 'hostess',\n",
       " 'hot',\n",
       " 'hotel',\n",
       " 'hour',\n",
       " 'hours',\n",
       " 'house',\n",
       " 'huge',\n",
       " 'hungry',\n",
       " 'husband',\n",
       " 'hype',\n",
       " 'hyped',\n",
       " 'ice',\n",
       " 'idea',\n",
       " 'imagine',\n",
       " 'immediately',\n",
       " 'impressed',\n",
       " 'impressive',\n",
       " 'include',\n",
       " 'included',\n",
       " 'including',\n",
       " 'incredible',\n",
       " 'individual',\n",
       " 'insane',\n",
       " 'inside',\n",
       " 'instead',\n",
       " 'interesting',\n",
       " 'isn',\n",
       " 'issue',\n",
       " 'italian',\n",
       " 'item',\n",
       " 'items',\n",
       " 'japanese',\n",
       " 'job',\n",
       " 'juice',\n",
       " 'juices',\n",
       " 'juicy',\n",
       " 'just',\n",
       " 'kept',\n",
       " 'kids',\n",
       " 'kind',\n",
       " 'kinda',\n",
       " 'kinds',\n",
       " 'king',\n",
       " 'kiosk',\n",
       " 'knew',\n",
       " 'know',\n",
       " 'known',\n",
       " 'lack',\n",
       " 'lacking',\n",
       " 'lady',\n",
       " 'lamb',\n",
       " 'large',\n",
       " 'larger',\n",
       " 'las',\n",
       " 'late',\n",
       " 'later',\n",
       " 'lava',\n",
       " 'leave',\n",
       " 'leaving',\n",
       " 'left',\n",
       " 'leg',\n",
       " 'legs',\n",
       " 'let',\n",
       " 'level',\n",
       " 'life',\n",
       " 'like',\n",
       " 'liked',\n",
       " 'limit',\n",
       " 'limited',\n",
       " 'line',\n",
       " 'lines',\n",
       " 'list',\n",
       " 'literally',\n",
       " 'little',\n",
       " 'll',\n",
       " 'lobster',\n",
       " 'local',\n",
       " 'located',\n",
       " 'lol',\n",
       " 'long',\n",
       " 'longer',\n",
       " 'look',\n",
       " 'looked',\n",
       " 'looking',\n",
       " 'looks',\n",
       " 'lost',\n",
       " 'lot',\n",
       " 'lots',\n",
       " 'love',\n",
       " 'loved',\n",
       " 'low',\n",
       " 'luckily',\n",
       " 'lucky',\n",
       " 'lunch',\n",
       " 'mac',\n",
       " 'macarons',\n",
       " 'macaroons',\n",
       " 'machine',\n",
       " 'machines',\n",
       " 'main',\n",
       " 'make',\n",
       " 'makes',\n",
       " 'making',\n",
       " 'man',\n",
       " 'management',\n",
       " 'manager',\n",
       " 'mango',\n",
       " 'mary',\n",
       " 'mashed',\n",
       " 'maybe',\n",
       " 'meal',\n",
       " 'meals',\n",
       " 'mean',\n",
       " 'meat',\n",
       " 'meatballs',\n",
       " 'meats',\n",
       " 'mediocre',\n",
       " 'medium',\n",
       " 'meh',\n",
       " 'member',\n",
       " 'memorable',\n",
       " 'mention',\n",
       " 'mentioned',\n",
       " 'menu',\n",
       " 'mexican',\n",
       " 'middle',\n",
       " 'mimosa',\n",
       " 'mimosas',\n",
       " 'min',\n",
       " 'mind',\n",
       " 'mini',\n",
       " 'mins',\n",
       " 'minute',\n",
       " 'minutes',\n",
       " 'miss',\n",
       " 'missed',\n",
       " 'missing',\n",
       " 'mistake',\n",
       " 'mixed',\n",
       " 'mochi',\n",
       " 'monday',\n",
       " 'money',\n",
       " 'morning',\n",
       " 'mousse',\n",
       " 'mouth',\n",
       " 'moved',\n",
       " 'multiple',\n",
       " 'mushroom',\n",
       " 'music',\n",
       " 'mussels',\n",
       " 'near',\n",
       " 'nearly',\n",
       " 'need',\n",
       " 'needed',\n",
       " 'needs',\n",
       " 'new',\n",
       " 'nice',\n",
       " 'night',\n",
       " 'nigiri',\n",
       " 'non',\n",
       " 'noodle',\n",
       " 'noodles',\n",
       " 'normal',\n",
       " 'normally',\n",
       " 'notch',\n",
       " 'note',\n",
       " 'noticed',\n",
       " 'number',\n",
       " 'nutella',\n",
       " 'obviously',\n",
       " 'offer',\n",
       " 'offered',\n",
       " 'offerings',\n",
       " 'oh',\n",
       " 'ok',\n",
       " 'okay',\n",
       " 'old',\n",
       " 'omg',\n",
       " 'ones',\n",
       " 'open',\n",
       " 'opened',\n",
       " 'opinion',\n",
       " 'option',\n",
       " 'options',\n",
       " 'orange',\n",
       " 'order',\n",
       " 'ordered',\n",
       " 'organized',\n",
       " 'outside',\n",
       " 'outstanding',\n",
       " 'overall',\n",
       " 'overcooked',\n",
       " 'overpriced',\n",
       " 'overrated',\n",
       " 'overwhelming',\n",
       " 'oyster',\n",
       " 'oysters',\n",
       " 'packed',\n",
       " 'paella',\n",
       " 'paid',\n",
       " 'palace',\n",
       " 'pancakes',\n",
       " 'par',\n",
       " 'parties',\n",
       " 'party',\n",
       " 'pass',\n",
       " 'past',\n",
       " 'pasta',\n",
       " 'pastas',\n",
       " 'pay',\n",
       " 'paying',\n",
       " 'penny',\n",
       " 'people',\n",
       " 'perfect',\n",
       " 'perfectly',\n",
       " 'person',\n",
       " 'personal',\n",
       " 'personally',\n",
       " 'phenomenal',\n",
       " 'pho',\n",
       " 'phone',\n",
       " 'photo',\n",
       " 'pick',\n",
       " 'picky',\n",
       " 'pictures',\n",
       " 'piece',\n",
       " 'pieces',\n",
       " 'pig',\n",
       " 'pineapple',\n",
       " 'pizza',\n",
       " 'place',\n",
       " 'places',\n",
       " 'plan',\n",
       " 'plate',\n",
       " 'plates',\n",
       " 'platinum',\n",
       " 'pleasant',\n",
       " 'plentiful',\n",
       " 'plenty',\n",
       " 'plus',\n",
       " 'pm',\n",
       " 'point',\n",
       " 'poor',\n",
       " 'pops',\n",
       " 'popular',\n",
       " 'pork',\n",
       " 'portion',\n",
       " 'portions',\n",
       " 'possible',\n",
       " 'possibly',\n",
       " 'pot',\n",
       " 'potato',\n",
       " 'potatoes',\n",
       " 'pre',\n",
       " 'prefer',\n",
       " 'prepared',\n",
       " 'presentation',\n",
       " 'presented',\n",
       " 'pretty',\n",
       " 'price',\n",
       " 'priced',\n",
       " 'prices',\n",
       " 'pricey',\n",
       " 'pricing',\n",
       " 'pricy',\n",
       " 'prime',\n",
       " 'probably',\n",
       " 'problem',\n",
       " 'pudding',\n",
       " 'quality',\n",
       " 'quantity',\n",
       " 'queue',\n",
       " 'quick',\n",
       " 'quickly',\n",
       " 'quite',\n",
       " 'ramen',\n",
       " 'ran',\n",
       " 'rare',\n",
       " 'rate',\n",
       " 'rated',\n",
       " 'rating',\n",
       " 'ravioli',\n",
       " 'raw',\n",
       " 'read',\n",
       " 'ready',\n",
       " 'real',\n",
       " 'really',\n",
       " 'reason',\n",
       " 'reasonable',\n",
       " 'receipt',\n",
       " 'receive',\n",
       " 'received',\n",
       " 'recommend',\n",
       " 'recommended',\n",
       " 'red',\n",
       " 'refill',\n",
       " 'refilled',\n",
       " 'refills',\n",
       " 'register',\n",
       " 'regret',\n",
       " 'regular',\n",
       " 'remember',\n",
       " 'reservation',\n",
       " 'rest',\n",
       " 'restaurant',\n",
       " 'restaurants',\n",
       " 'return',\n",
       " 'review',\n",
       " 'reviews',\n",
       " 'rewards',\n",
       " 'rib',\n",
       " 'ribs',\n",
       " 'rice',\n",
       " 'ridiculous',\n",
       " 'right',\n",
       " 'rio',\n",
       " 'roast',\n",
       " 'roasted',\n",
       " 'rolls',\n",
       " 'room',\n",
       " 'round',\n",
       " 'rude',\n",
       " 'run',\n",
       " 'sad',\n",
       " 'sadly',\n",
       " 'said',\n",
       " 'salad',\n",
       " 'salads',\n",
       " 'salmon',\n",
       " 'salt',\n",
       " 'salty',\n",
       " 'sample',\n",
       " 'sashimi',\n",
       " 'sat',\n",
       " 'satisfied',\n",
       " 'saturday',\n",
       " 'sauce',\n",
       " 'sausage',\n",
       " 'sausages',\n",
       " 'save',\n",
       " 'saw',\n",
       " 'say',\n",
       " 'saying',\n",
       " 'scallops',\n",
       " 'sea',\n",
       " 'seafood',\n",
       " 'seasoned',\n",
       " 'seat',\n",
       " 'seated',\n",
       " 'seating',\n",
       " 'second',\n",
       " 'section',\n",
       " 'sections',\n",
       " 'seen',\n",
       " 'selection',\n",
       " 'selections',\n",
       " 'separate',\n",
       " 'seriously',\n",
       " 'serve',\n",
       " 'served',\n",
       " 'server',\n",
       " 'servers',\n",
       " 'service',\n",
       " 'serving',\n",
       " 'set',\n",
       " 'shell',\n",
       " 'shooters',\n",
       " 'short',\n",
       " 'shorter',\n",
       " 'showed',\n",
       " 'shrimp',\n",
       " 'shrimps',\n",
       " 'sick',\n",
       " 'sign',\n",
       " 'simply',\n",
       " 'single',\n",
       " 'sit',\n",
       " 'sitting',\n",
       " 'size',\n",
       " 'skip',\n",
       " 'skipped',\n",
       " 'slice',\n",
       " 'sliders',\n",
       " 'slightly',\n",
       " 'slow',\n",
       " 'small',\n",
       " 'smoked',\n",
       " 'snow',\n",
       " 'soft',\n",
       " 'solid',\n",
       " 'soon',\n",
       " 'sorry',\n",
       " 'sort',\n",
       " 'soup',\n",
       " 'soups',\n",
       " 'sour',\n",
       " 'space',\n",
       " 'special',\n",
       " 'spectacular',\n",
       " 'spend',\n",
       " 'spending',\n",
       " 'spent',\n",
       " 'spicy',\n",
       " 'split',\n",
       " 'spoon',\n",
       " 'spot',\n",
       " 'spread',\n",
       " 'squeezed',\n",
       " 'staff',\n",
       " 'stand',\n",
       " 'standard',\n",
       " 'standing',\n",
       " 'star',\n",
       " 'stars',\n",
       " 'start',\n",
       " 'started',\n",
       " 'starving',\n",
       " 'station',\n",
       " 'stations',\n",
       " 'stay',\n",
       " 'stayed',\n",
       " 'steak',\n",
       " 'steamed',\n",
       " 'steep',\n",
       " 'stomach',\n",
       " 'stone',\n",
       " 'stood',\n",
       " 'stop',\n",
       " 'straight',\n",
       " 'strawberries',\n",
       " 'strawberry',\n",
       " 'street',\n",
       " 'strip',\n",
       " 'stuff',\n",
       " 'stuffed',\n",
       " 'style',\n",
       " 'sugar',\n",
       " 'suggest',\n",
       " 'sum',\n",
       " 'sunday',\n",
       " 'super',\n",
       " 'supposed',\n",
       " 'sure',\n",
       " 'surprise',\n",
       " 'surprised',\n",
       " 'surprisingly',\n",
       " 'sushi',\n",
       " 'sweet',\n",
       " 'sweets',\n",
       " 'table',\n",
       " 'tables',\n",
       " 'taco',\n",
       " 'tacos',\n",
       " 'tag',\n",
       " 'taken',\n",
       " 'takes',\n",
       " 'taking',\n",
       " 'talk',\n",
       " 'talking',\n",
       " 'taste',\n",
       " 'tasted',\n",
       " 'tasteless',\n",
       " 'tastes',\n",
       " 'tasting',\n",
       " 'tasty',\n",
       " 'tax',\n",
       " 'tea',\n",
       " 'tell',\n",
       " 'telling',\n",
       " 'tender',\n",
       " 'terms',\n",
       " 'terrible',\n",
       " 'text',\n",
       " 'thai',\n",
       " 'thank',\n",
       " 'thanks',\n",
       " 'thing',\n",
       " 'things',\n",
       " 'think',\n",
       " 'thinking',\n",
       " 'thought',\n",
       " 'thursday',\n",
       " 'ticket',\n",
       " 'time',\n",
       " 'times',\n",
       " 'tiny',\n",
       " 'tip',\n",
       " 'tips',\n",
       " 'tiramisu',\n",
       " 'today',\n",
       " 'told',\n",
       " 'ton',\n",
       " 'tons',\n",
       " 'took',\n",
       " 'total',\n",
       " 'totally',\n",
       " 'tots',\n",
       " 'tough',\n",
       " 'town',\n",
       " 'tried',\n",
       " 'trip',\n",
       " 'trips',\n",
       " 'true',\n",
       " 'truffle',\n",
       " 'truly',\n",
       " 'try',\n",
       " 'trying',\n",
       " 'tuesday',\n",
       " 'turn',\n",
       " 'turned',\n",
       " 'twice',\n",
       " 'type',\n",
       " 'types',\n",
       " 'typical',\n",
       " 'udon',\n",
       " 'understand',\n",
       " 'unfortunately',\n",
       " 'unique',\n",
       " 'unless',\n",
       " 'unlimited',\n",
       " 'upscale',\n",
       " 'use',\n",
       " 'used',\n",
       " 'usual',\n",
       " 'usually',\n",
       " 'value',\n",
       " 'varieties',\n",
       " 'variety',\n",
       " 'various',\n",
       " 've',\n",
       " 'vegas',\n",
       " 'vegetarian',\n",
       " 'velvet',\n",
       " 'vip',\n",
       " 'visit',\n",
       " 'visited',\n",
       " 'visiting',\n",
       " 'waffle',\n",
       " 'waffles',\n",
       " 'wait',\n",
       " 'waited',\n",
       " 'waiter',\n",
       " 'waiting',\n",
       " 'waitress',\n",
       " 'walk',\n",
       " 'walked',\n",
       " 'walking',\n",
       " 'want',\n",
       " 'wanted',\n",
       " 'warm',\n",
       " 'wasn',\n",
       " 'waste',\n",
       " 'water',\n",
       " 'watermelon',\n",
       " 'way',\n",
       " 'week',\n",
       " 'weekday',\n",
       " 'weekend',\n",
       " 'weekends',\n",
       " 'went',\n",
       " 'weren',\n",
       " 'white',\n",
       " 'wicked',\n",
       " 'wide',\n",
       " 'wife',\n",
       " 'wine',\n",
       " 'wish',\n",
       " 'won',\n",
       " 'wonderful',\n",
       " 'work',\n",
       " 'working',\n",
       " 'world',\n",
       " 'worse',\n",
       " 'worst',\n",
       " 'worth',\n",
       " 'wouldn',\n",
       " 'wow',\n",
       " 'wrong',\n",
       " 'wynn',\n",
       " 'yeah',\n",
       " 'year',\n",
       " 'years',\n",
       " 'yelp',\n",
       " 'yes',\n",
       " 'yum',\n",
       " 'yummy']"
      ]
     },
     "execution_count": 16,
     "metadata": {},
     "output_type": "execute_result"
    }
   ],
   "source": [
    "# Get the vocab of your tfidf\n",
    "words = vectorizer.get_feature_names()\n",
    "words"
   ]
  },
  {
   "cell_type": "code",
   "execution_count": 17,
   "metadata": {
    "ExecuteTime": {
     "end_time": "2018-01-02T05:43:56.187186Z",
     "start_time": "2018-01-02T05:43:56.102454Z"
    },
    "collapsed": true
   },
   "outputs": [],
   "source": [
    "# Use the trained model to transform the test data\n",
    "test_vector = vectorizer.transform(X_test).toarray()"
   ]
  },
  {
   "cell_type": "code",
   "execution_count": 18,
   "metadata": {
    "ExecuteTime": {
     "end_time": "2018-01-02T05:43:58.534937Z",
     "start_time": "2018-01-02T05:43:58.277554Z"
    },
    "collapsed": true
   },
   "outputs": [],
   "source": [
    "# Use the trained model to transform all the data\n",
    "documents_top_restaurant_vector = vectorizer.transform(documents_top_restaurant).toarray()"
   ]
  },
  {
   "cell_type": "markdown",
   "metadata": {},
   "source": [
    "### Cluster reviews with KMeans"
   ]
  },
  {
   "cell_type": "markdown",
   "metadata": {},
   "source": [
    "#### Fit k-means clustering on the training vectors and make predictions on all data"
   ]
  },
  {
   "cell_type": "code",
   "execution_count": 69,
   "metadata": {
    "ExecuteTime": {
     "end_time": "2018-01-02T05:08:11.098903Z",
     "start_time": "2018-01-02T04:51:32.933456Z"
    }
   },
   "outputs": [
    {
     "data": {
      "text/plain": [
       "KMeans(algorithm='auto', copy_x=True, init='k-means++', max_iter=300,\n",
       "    n_clusters=5, n_init=10, n_jobs=1, precompute_distances='auto',\n",
       "    random_state=None, tol=0.0001, verbose=0)"
      ]
     },
     "execution_count": 69,
     "metadata": {},
     "output_type": "execute_result"
    }
   ],
   "source": [
    "# To be implemented\n",
    "from sklearn.cluster import KMeans\n",
    "\n",
    "kmeans = KMeans(n_clusters=5)\n",
    "kmeans.fit(train_vector)"
   ]
  },
  {
   "cell_type": "markdown",
   "metadata": {},
   "source": [
    "#### Make predictions on all your data"
   ]
  },
  {
   "cell_type": "code",
   "execution_count": 70,
   "metadata": {
    "ExecuteTime": {
     "end_time": "2018-01-02T05:08:11.162071Z",
     "start_time": "2018-01-02T05:08:11.100910Z"
    },
    "collapsed": true
   },
   "outputs": [],
   "source": [
    "# To be implemented\n",
    "assigned_cluster = kmeans.predict(documents_top_restaurant_vector)"
   ]
  },
  {
   "cell_type": "markdown",
   "metadata": {},
   "source": [
    "#### Inspect the centroids"
   ]
  },
  {
   "cell_type": "code",
   "execution_count": 72,
   "metadata": {
    "ExecuteTime": {
     "end_time": "2018-01-02T05:11:25.874475Z",
     "start_time": "2018-01-02T05:11:25.869963Z"
    }
   },
   "outputs": [
    {
     "name": "stdout",
     "output_type": "stream",
     "text": [
      "cluster centers:\n",
      "(5, 1000)\n"
     ]
    }
   ],
   "source": [
    "# To be implemented\n",
    "print(\"cluster centers:\")\n",
    "print(kmeans.cluster_centers_.shape)"
   ]
  },
  {
   "cell_type": "markdown",
   "metadata": {},
   "source": [
    "#### Find the top 10 features for each cluster."
   ]
  },
  {
   "cell_type": "code",
   "execution_count": 73,
   "metadata": {
    "ExecuteTime": {
     "end_time": "2018-01-02T05:11:29.660045Z",
     "start_time": "2018-01-02T05:11:29.653055Z"
    }
   },
   "outputs": [
    {
     "name": "stdout",
     "output_type": "stream",
     "text": [
      "top features for each cluster:\n",
      "0: food, order, time, just, service, like, minutes, came, didn\n",
      "1: burger, fries, burgers, good, shake, cheese, place, food, great\n",
      "2: great, food, service, place, amazing, good, friendly, staff, awesome\n",
      "3: pizza, crust, good, place, great, cheese, slice, best, just\n",
      "4: good, place, food, chicken, best, vegas, delicious, like, really\n"
     ]
    }
   ],
   "source": [
    "# To be implemented\n",
    "n_feat = 10\n",
    "top_centroids = kmeans.cluster_centers_.argsort()[:, -1:-n_feat:-1]\n",
    "\n",
    "print(\"top features for each cluster:\")\n",
    "for num, centroid in enumerate(top_centroids):\n",
    "    print(\"%d: %s\" % (num, \", \".join(words[i] for i in centroid)))"
   ]
  },
  {
   "cell_type": "markdown",
   "metadata": {},
   "source": [
    "#### Print out the rating and review of a random sample of the reviews assigned to each cluster to get a sense of the cluster."
   ]
  },
  {
   "cell_type": "code",
   "execution_count": 75,
   "metadata": {
    "ExecuteTime": {
     "end_time": "2018-01-02T05:11:47.364972Z",
     "start_time": "2018-01-02T05:11:47.341381Z"
    }
   },
   "outputs": [
    {
     "name": "stdout",
     "output_type": "stream",
     "text": [
      "==========\n",
      "Cluster 0:\n",
      "    5 - \n",
      "A top notch classy buffet with so many selections it sends your head spinning.  This is one of my top two buffets in Vegas.  It is pricier than others, and the line to get in might be longer, but the food makes up for it.\r\n",
      "\r\n",
      "I've been there twice for dinner.  Each time the table service of drinks was timely and the servers gave the impression they appreciated our patronage.  The only downside (having nothing to do with the buffet) is the horrible parking at Caesars.  Last time we were there it took nearly 45 minutes to find a parking spot and one has to be patient in self-parking.  The hotel has so much to offer that the existing parking structure is really too small.  I doubt that will change anytime soon.\r\n",
      "\r\n",
      "The buffet features desserts galore.  I'm not a big dessert eater but my mouth was watering and I had to really test my resistance.\n",
      "    2 - \n",
      "It's not that great.  You wait in a long line to get to the place where you pay for the buffet, then you wait a bunch more time in a second line to finally get to the front where you will finally get assigned a table, then you wait in a long crazy line to get to the carving station.  It was a total ordeal from start to finish.  If you enjoy long long waits then this place is totally the place for you.  \r\n",
      "\r\n",
      "After I finally got in I was not impressed by the selection.  The way the food stations where laid out seemed haphazard and unorganized.  I'm not a huge meat eater so if you are really into carne then maybe it's worth the massive wait times.  It was not for me.  I wished I had gone to the Aria buffet that I check out the day before.  It looked very good and there was no lines to speak of. \r\n",
      "\r\n",
      "The one upside was the deserts were pretty good.\r\n",
      "\r\n",
      "I will NEVER go back.  It cost me $57 to battle in lines for over an hour. I felt like I was in a mad-max movie, \"buffet dome.\"   I could have spent that kinda of cash on something really good!\r\n",
      "\r\n",
      "I believe that the #1 rating is a huge hype job by Caesars.  There are posters and signs on every taxi in town about this underwhelming buffet.  Once again the reality of Vegas doesn't meet the hyper-hype.  \r\n",
      "\r\n",
      "If your idea of a great night out is to standing in long lines over and over with a bunch of crabby hungry people and to have to dash around goofy obnoxious people battling to get food, your home!\r\n",
      "\r\n",
      "The freaking carving station had a huge line that was in the way of getting to a lot of other dishes unless you got in that stupid slow moving line, even if all you wanted was a non-carving item like baked beans or corn on the cobb.  It was redonkulus.   They need to have more then one meat carving station away from the other dishes.\r\n",
      "\r\n",
      "I WILL NOT BE BACK.  I WAS ROBBED OF AT LEAST 40 OF MY 57 BUCKS I SPENT ON THIS BUFFET OF STANDING IN LINE AFTER LINE AFTER LINE.\r\n",
      "\r\n",
      "But if you are a total lemming and tend to fall for all the hype, then totally, you should go for it.\n",
      "==========\n",
      "Cluster 1:\n",
      "    5 - \n",
      "Seriously the best burgers ever. They really focus on customer service also. Been here multiple times. Try the Hell's Kitchen Burger.\n",
      "    5 - \n",
      "Did the triple D thing. The Ox Tail Chili fries way good. The bánh mì burger worth the trip. Service was good issues resolved professionally. Easy place to have a good meal and conversation. Price performer for adventurous customers looking for something other than over prices stakes.\n",
      "==========\n",
      "Cluster 2:\n",
      "    5 - \n",
      "Excellent food selection and great quality food.  Weekend buffet is $54, but it's worth every penny.\n",
      "    1 - \n",
      "This is strictly on food quality going down feedback for the head honcho at this buffet.\r\n",
      "\r\n",
      "Please bring back the previous 2 years ago management.\r\n",
      "\r\n",
      "Too many main food items lost its quality. \r\n",
      "\r\n",
      "Great staff great coffee.\n",
      "==========\n",
      "Cluster 3:\n",
      "    5 - \n",
      "This place has everything. From seafood to sliders to pizza to sushi. And what's great about this place is everything taste so gooood.They even have Filipino adidas lol. They also have unique desserts that you should definitely try.\n",
      "    5 - \n",
      "As a true glutton I love buffets, and I am pretty confident that this is the best buffet I have ever had. I tried to eat almost everything and definitely failed but I can give you the highlights here. This is what you should be focusing your efforts on:\r\n",
      "\r\n",
      "The crab legs, of which the server gave me a hilariously large portion\r\n",
      "The lamb chops\r\n",
      "The dim sum offerings\r\n",
      "The mussels in some kind of special sauce\r\n",
      "The desserts, oh lord. Everything was so good but the gelato really put the kicker on my meal\r\n",
      "\r\n",
      "Don't get pizza. You didn't wait in line a hour and pay sixty bucks for pizza. But the food is really amazing and worth every bit of the wait and entry fee. This is the only time in my life that I have ever woken up the next morning still full with My stomach still hurting. Incredible.\n",
      "==========\n",
      "Cluster 4:\n",
      "    2 - \n",
      "Going to Buffets is always a highlight of my Vegas trips.  This is why I was excited to try out the Bacchanal last Saturday, 3/25/17.  Even though we paid $63.06 per person due to a large party of 10, to celebrate my sis-In-law's bday, we all figured that it will be worth it.  After all, Bacchanal was listed as the #1 Buffet in Vegas.  \r\n",
      "\r\n",
      "The seating was ok.  We didn't have to wait long.  Considering it was a Saturday and the price is more expensive than regular weekday, I hurriedly went to the sushi bar since I've been craving for sushi.  To my dismay, there were only 4 varieties of sushi and no sashimi in the Japanese selection.   \r\n",
      "\r\n",
      "Next to the sushi are 2 selections each of pork buns and dumplings.  Along with 3 selections of different kinds of Asian soups.\r\n",
      "\r\n",
      "I went to the carving station and they only had brisket for beef, ribs, chicken & hot links.  You would think, for the price we paid, they would have prime rib.\r\n",
      "\r\n",
      "\r\n",
      "One of my favorite buffet must-haves are the oysters.  And to my surprise, they did not have any.  They had one of those white shells that look like clams.  So my family just went with the crab legs, as those were the only ones that were good enough.  We were told that we had to pay extra for the lobsters, but we were there until 4:30p,, but no lobsters in sight.  We were also told that lobsters are market price??? I've never heard of a buffet where you pay market price for lobsters!\r\n",
      "\r\n",
      "The rest of the food is nothing much more than what you will get at maybe, Harrah's buffet for $26.  There were no teppanyaki, Mongolian or anything where you can have them cook special noodles for you.  Everything was like a regular all you can eat Chinese restaurant.\r\n",
      "\r\n",
      "The dessert was pretty good, but not a huge selection.  Unlike the other fancy buffets in Vegas, there were no macarons or cakes or fro yo.\r\n",
      "\r\n",
      "The worst thing of all was, my brother paid $15 for all you can drink beer & wine.  They only took his order once, never came back for any refill or anything.  So pretty much a waste of money.  We never got refills for any of our regular drinks, either.  \r\n",
      "\r\n",
      "Our go-to buffet in Vegas is the M Buffet.  I think for their price, they make it worth the line and money.  Their quality never is their priority.  I am extremely disappointed with the Bacchanal because to pay $600 for 1 meal for all of us, the selection was only worth half the price.  For a Saturday to have a menu of nothing different than a weekday menu, but costs more is unacceptable.\r\n",
      "\r\n",
      "I sincerely wish I researched before paying as the experience was not worth the price.  I hope The Bacchanal work on their quality or lower the price. I know everything in Vegas is expensive, but this one was like playing the slot machine and losing all your money.\n",
      "    5 - \n",
      "Not everything is great, but it's the only buffet that is definitely worth the calories. Most of the people when I was there were focusing on the seafood, but you can get steamed crab legs and shrimp anywhere.  It was the charcuterie, the wonderful little deserts and the appetizers that makes it worthwhile.\n"
     ]
    },
    {
     "name": "stderr",
     "output_type": "stream",
     "text": [
      "E:\\software\\anaconda\\lib\\site-packages\\ipykernel_launcher.py:8: DeprecationWarning: \n",
      ".ix is deprecated. Please use\n",
      ".loc for label based indexing or\n",
      ".iloc for positional indexing\n",
      "\n",
      "See the documentation here:\n",
      "http://pandas.pydata.org/pandas-docs/stable/indexing.html#ix-indexer-is-deprecated\n",
      "  \n"
     ]
    }
   ],
   "source": [
    "# To be implemented\n",
    "for i in range(kmeans.n_clusters):\n",
    "    cluster = np.arange(0, documents_top_restaurant_vector.shape[0])[assigned_cluster==i]\n",
    "    sample_reviews = np.random.choice(cluster, 2, replace=False)\n",
    "    print (\"=\" * 10)\n",
    "    print (\"Cluster %d:\" % i)\n",
    "    for review_index in sample_reviews:\n",
    "        print (\"    %s - \" % df_top_restaurant.ix[review_index]['stars'],)\n",
    "        print (\"%s\" % df_top_restaurant.ix[review_index]['text'])\n",
    "    print"
   ]
  },
  {
   "cell_type": "markdown",
   "metadata": {},
   "source": [
    "## 3. Use PCA to reduce dimensionality"
   ]
  },
  {
   "cell_type": "markdown",
   "metadata": {},
   "source": [
    "### Stardardize features\n",
    "Your X_train and X_test"
   ]
  },
  {
   "cell_type": "code",
   "execution_count": 20,
   "metadata": {
    "ExecuteTime": {
     "end_time": "2018-01-02T05:45:53.317818Z",
     "start_time": "2018-01-02T05:45:53.238072Z"
    },
    "collapsed": true
   },
   "outputs": [],
   "source": [
    "from sklearn.preprocessing import StandardScaler\n",
    "\n",
    "# To be implemented\n",
    "scaler = StandardScaler()\n",
    "\n",
    "X_train_scaled = scaler.fit_transform(train_vector)\n",
    "X_test_scaled = scaler.transform(test_vector)"
   ]
  },
  {
   "cell_type": "markdown",
   "metadata": {},
   "source": [
    "### Use PCA to transform data (train and test) and get princial components"
   ]
  },
  {
   "cell_type": "code",
   "execution_count": 21,
   "metadata": {
    "ExecuteTime": {
     "end_time": "2018-01-02T05:46:02.136284Z",
     "start_time": "2018-01-02T05:45:59.837760Z"
    },
    "collapsed": true
   },
   "outputs": [],
   "source": [
    "from sklearn.decomposition import PCA\n",
    "\n",
    "# Let's pick a n_components\n",
    "n_components = 50\n",
    "\n",
    "# To be implemented\n",
    "n_col = 50\n",
    "pca = PCA(n_components=n_col)\n",
    "X_train_pca = pca.fit_transform(X_train_scaled)\n",
    "X_test_pca = pca.transform(X_test_scaled)"
   ]
  },
  {
   "cell_type": "markdown",
   "metadata": {},
   "source": [
    "### See how much (and how much percentage of) variance the principal components explain"
   ]
  },
  {
   "cell_type": "code",
   "execution_count": 22,
   "metadata": {
    "ExecuteTime": {
     "end_time": "2018-01-02T05:46:03.011167Z",
     "start_time": "2018-01-02T05:46:03.006153Z"
    }
   },
   "outputs": [
    {
     "data": {
      "text/plain": [
       "array([ 8.96708997,  6.59845961,  4.42686693,  4.28829482,  3.83930759,\n",
       "        3.55484251,  3.44440466,  3.28516105,  3.26505629,  3.12842457,\n",
       "        3.08284847,  3.03780428,  2.96535929,  2.92652165,  2.90090413,\n",
       "        2.84198775,  2.80700504,  2.77406602,  2.70262387,  2.68457518,\n",
       "        2.67292268,  2.62445195,  2.61391208,  2.58987505,  2.55599594,\n",
       "        2.55220657,  2.51594425,  2.5063108 ,  2.49697916,  2.48961067,\n",
       "        2.4619652 ,  2.43347103,  2.42494209,  2.41433273,  2.39556861,\n",
       "        2.38150348,  2.36252705,  2.34843961,  2.33168804,  2.32371646,\n",
       "        2.29387138,  2.28212813,  2.25215749,  2.24634444,  2.23767864,\n",
       "        2.22594108,  2.21575757,  2.20394871,  2.20250119,  2.18290149])"
      ]
     },
     "execution_count": 22,
     "metadata": {},
     "output_type": "execute_result"
    }
   ],
   "source": [
    "# To be implemented\n",
    "pca.explained_variance_ "
   ]
  },
  {
   "cell_type": "code",
   "execution_count": 23,
   "metadata": {
    "ExecuteTime": {
     "end_time": "2018-01-02T05:46:09.435326Z",
     "start_time": "2018-01-02T05:46:09.430289Z"
    }
   },
   "outputs": [
    {
     "data": {
      "text/plain": [
       "array([ 0.00896339,  0.00659574,  0.00442504,  0.00428652,  0.00383772,\n",
       "        0.00355337,  0.00344298,  0.0032838 ,  0.00326371,  0.00312713,\n",
       "        0.00308158,  0.00303655,  0.00296413,  0.00292531,  0.00289971,\n",
       "        0.00284081,  0.00280585,  0.00277292,  0.00270151,  0.00268347,\n",
       "        0.00267182,  0.00262337,  0.00261283,  0.00258881,  0.00255494,\n",
       "        0.00255115,  0.00251491,  0.00250528,  0.00249595,  0.00248858,\n",
       "        0.00246095,  0.00243247,  0.00242394,  0.00241334,  0.00239458,\n",
       "        0.00238052,  0.00236155,  0.00234747,  0.00233073,  0.00232276,\n",
       "        0.00229292,  0.00228119,  0.00225123,  0.00224542,  0.00223675,\n",
       "        0.00222502,  0.00221484,  0.00220304,  0.00220159,  0.002182  ])"
      ]
     },
     "execution_count": 23,
     "metadata": {},
     "output_type": "execute_result"
    }
   ],
   "source": [
    "# To be implemented\n",
    "pca.explained_variance_ratio_"
   ]
  },
  {
   "cell_type": "markdown",
   "metadata": {},
   "source": [
    "### Viz: plot proportion of variance explained with top principal components\n",
    "\n",
    "For clear display, you may start with plotting <=20 principal components"
   ]
  },
  {
   "cell_type": "code",
   "execution_count": 24,
   "metadata": {
    "ExecuteTime": {
     "end_time": "2018-01-02T05:46:14.762398Z",
     "start_time": "2018-01-02T05:46:14.397779Z"
    }
   },
   "outputs": [
    {
     "data": {
      "image/png": "[encoded data removed]",
      "text/plain": [
       "<matplotlib.figure.Figure at 0x2c215f7ac88>"
      ]
     },
     "metadata": {},
     "output_type": "display_data"
    }
   ],
   "source": [
    "# To be implemented\n",
    "n_col_to_display = 20\n",
    "\n",
    "pca_range = np.arange(n_col_to_display) + 1\n",
    "pca_names = ['PCA_%s' % i for i in pca_range]\n",
    "\n",
    "plt.figure(figsize=(10, 10))\n",
    "plt.bar(pca_range,\n",
    "        pca.explained_variance_[:n_col_to_display],\n",
    "        align='center')\n",
    "xticks = plt.xticks(pca_range,\n",
    "                    pca_names,\n",
    "                    rotation=90)\n",
    "plt.ylabel('Variance Explained')\n",
    "plt.show()"
   ]
  },
  {
   "cell_type": "code",
   "execution_count": 25,
   "metadata": {
    "ExecuteTime": {
     "end_time": "2018-01-02T05:46:17.546102Z",
     "start_time": "2018-01-02T05:46:17.542068Z"
    }
   },
   "outputs": [
    {
     "data": {
      "text/plain": [
       "((2422, 1000), (2422,))"
      ]
     },
     "execution_count": 25,
     "metadata": {},
     "output_type": "execute_result"
    }
   ],
   "source": [
    "X_train_scaled.shape, y_train.shape"
   ]
  },
  {
   "cell_type": "code",
   "execution_count": 26,
   "metadata": {
    "ExecuteTime": {
     "end_time": "2018-01-02T05:46:18.529813Z",
     "start_time": "2018-01-02T05:46:18.525830Z"
    }
   },
   "outputs": [
    {
     "data": {
      "text/plain": [
       "((2422, 50), (2422,))"
      ]
     },
     "execution_count": 26,
     "metadata": {},
     "output_type": "execute_result"
    }
   ],
   "source": [
    "X_train_pca.shape, y_train.shape"
   ]
  },
  {
   "cell_type": "markdown",
   "metadata": {},
   "source": [
    "## Classifying positive/negative review with PCA preprocessing"
   ]
  },
  {
   "cell_type": "markdown",
   "metadata": {},
   "source": [
    "### Logistic Regression Classifier\n",
    "#### Use standardized tf-idf vectors as features"
   ]
  },
  {
   "cell_type": "code",
   "execution_count": 27,
   "metadata": {
    "ExecuteTime": {
     "end_time": "2018-01-02T05:46:23.605682Z",
     "start_time": "2018-01-02T05:46:22.382496Z"
    }
   },
   "outputs": [
    {
     "data": {
      "text/plain": [
       "LogisticRegression(C=1.0, class_weight=None, dual=False, fit_intercept=True,\n",
       "          intercept_scaling=1, max_iter=100, multi_class='ovr', n_jobs=1,\n",
       "          penalty='l2', random_state=None, solver='liblinear', tol=0.0001,\n",
       "          verbose=0, warm_start=False)"
      ]
     },
     "execution_count": 27,
     "metadata": {},
     "output_type": "execute_result"
    }
   ],
   "source": [
    "# Build a Logistic Regression Classifier, train with standardized tf-idf vectors\n",
    "\n",
    "from sklearn.linear_model import LogisticRegression\n",
    "\n",
    "# To be implemented\n",
    "model_lrc = LogisticRegression()\n",
    "\n",
    "model_lrc.fit(X_train_scaled, y_train)"
   ]
  },
  {
   "cell_type": "code",
   "execution_count": 28,
   "metadata": {
    "ExecuteTime": {
     "end_time": "2018-01-02T05:46:47.287865Z",
     "start_time": "2018-01-02T05:46:47.278340Z"
    }
   },
   "outputs": [
    {
     "data": {
      "text/plain": [
       "0.99793559042113955"
      ]
     },
     "execution_count": 28,
     "metadata": {},
     "output_type": "execute_result"
    }
   ],
   "source": [
    "# Get score for training set\n",
    "model_lrc.score(X_train_scaled, y_train)"
   ]
  },
  {
   "cell_type": "code",
   "execution_count": 29,
   "metadata": {
    "ExecuteTime": {
     "end_time": "2018-01-02T05:46:56.940743Z",
     "start_time": "2018-01-02T05:46:56.934222Z"
    },
    "scrolled": true
   },
   "outputs": [
    {
     "data": {
      "text/plain": [
       "0.68912415784408088"
      ]
     },
     "execution_count": 29,
     "metadata": {},
     "output_type": "execute_result"
    }
   ],
   "source": [
    "# Get score for test set\n",
    "model_lrc.score(X_test_scaled, y_test)"
   ]
  },
  {
   "cell_type": "markdown",
   "metadata": {},
   "source": [
    "#### Use (Stardardized + PCA) tf-idf vectors as features"
   ]
  },
  {
   "cell_type": "code",
   "execution_count": 30,
   "metadata": {
    "ExecuteTime": {
     "end_time": "2018-01-02T05:47:15.228840Z",
     "start_time": "2018-01-02T05:47:15.214279Z"
    }
   },
   "outputs": [
    {
     "data": {
      "text/plain": [
       "LogisticRegression(C=1.0, class_weight=None, dual=False, fit_intercept=True,\n",
       "          intercept_scaling=1, max_iter=100, multi_class='ovr', n_jobs=1,\n",
       "          penalty='l2', random_state=None, solver='liblinear', tol=0.0001,\n",
       "          verbose=0, warm_start=False)"
      ]
     },
     "execution_count": 30,
     "metadata": {},
     "output_type": "execute_result"
    }
   ],
   "source": [
    "# Build a Logistic Regression Classifier, train with PCA tranformed X\n",
    "\n",
    "from sklearn.linear_model import LogisticRegression\n",
    "\n",
    "# To be implemented\n",
    "model_lrc = LogisticRegression()\n",
    "\n",
    "model_lrc.fit(X_train_pca, y_train)"
   ]
  },
  {
   "cell_type": "code",
   "execution_count": 33,
   "metadata": {
    "ExecuteTime": {
     "end_time": "2018-01-02T05:48:47.347536Z",
     "start_time": "2018-01-02T05:48:47.342021Z"
    }
   },
   "outputs": [
    {
     "data": {
      "text/plain": [
       "0.77993393889347651"
      ]
     },
     "execution_count": 33,
     "metadata": {},
     "output_type": "execute_result"
    }
   ],
   "source": [
    "# Get score for training set\n",
    "model_lrc.score(X_train_pca, y_train)"
   ]
  },
  {
   "cell_type": "code",
   "execution_count": 34,
   "metadata": {
    "ExecuteTime": {
     "end_time": "2018-01-02T05:48:48.139043Z",
     "start_time": "2018-01-02T05:48:48.134053Z"
    }
   },
   "outputs": [
    {
     "data": {
      "text/plain": [
       "0.78729547641963427"
      ]
     },
     "execution_count": 34,
     "metadata": {},
     "output_type": "execute_result"
    }
   ],
   "source": [
    "# Get score for test set, REMEMBER to use PCA-transformed X!\n",
    "model_lrc.score(X_test_pca, y_test)"
   ]
  },
  {
   "cell_type": "markdown",
   "metadata": {},
   "source": [
    "#### Q: What do you see from the training score and the test score? How do you compare the results from PCA and non-PCA preprocessing?"
   ]
  },
  {
   "cell_type": "markdown",
   "metadata": {},
   "source": [
    "A: (insert your comments here)"
   ]
  },
  {
   "cell_type": "markdown",
   "metadata": {},
   "source": [
    "#### You can plot the coefficients against principal components\n"
   ]
  },
  {
   "cell_type": "code",
   "execution_count": 35,
   "metadata": {
    "ExecuteTime": {
     "end_time": "2018-01-02T05:49:33.521517Z",
     "start_time": "2018-01-02T05:49:33.174722Z"
    }
   },
   "outputs": [
    {
     "data": {
      "image/png": "[encoded data removed]",
      "text/plain": [
       "<matplotlib.figure.Figure at 0x2c2162d4f28>"
      ]
     },
     "metadata": {},
     "output_type": "display_data"
    }
   ],
   "source": [
    "# To be implemented\n",
    "pca_range = np.arange(pca.n_components_) + 1\n",
    "pca_names = ['PC_%s' % i for i in pca_range]\n",
    "\n",
    "df_coeffs = pd.DataFrame(list(zip(pca_names, abs(model_lrc.coef_.flatten())))).sort_values(by=[1], ascending=False)\n",
    "df_coeffs.columns = ['PCs', 'coeff']\n",
    "\n",
    "ax = df_coeffs.plot.barh(figsize=(10, 10))\n",
    "t = np.arange(pca.n_components_)\n",
    "ax.set_yticks(t)\n",
    "ax.set_yticklabels(df_coeffs['PCs'])\n",
    "plt.show()"
   ]
  },
  {
   "cell_type": "markdown",
   "metadata": {},
   "source": [
    "### Random Forest Classifier\n",
    "#### Use standardized tf-idf vectors as features"
   ]
  },
  {
   "cell_type": "code",
   "execution_count": 36,
   "metadata": {
    "ExecuteTime": {
     "end_time": "2018-01-02T05:49:53.327888Z",
     "start_time": "2018-01-02T05:49:52.710482Z"
    }
   },
   "outputs": [
    {
     "data": {
      "text/plain": [
       "RandomForestClassifier(bootstrap=True, class_weight=None, criterion='gini',\n",
       "            max_depth=None, max_features='auto', max_leaf_nodes=None,\n",
       "            min_impurity_decrease=0.0, min_impurity_split=None,\n",
       "            min_samples_leaf=3, min_samples_split=2,\n",
       "            min_weight_fraction_leaf=0.0, n_estimators=20, n_jobs=1,\n",
       "            oob_score=False, random_state=42, verbose=0, warm_start=False)"
      ]
     },
     "execution_count": 36,
     "metadata": {},
     "output_type": "execute_result"
    }
   ],
   "source": [
    "# Build a Random Forest Classifier\n",
    "\n",
    "from sklearn.ensemble import RandomForestClassifier\n",
    "\n",
    "# To be implemented\n",
    "model_rfc = RandomForestClassifier(max_depth=None, n_estimators=20, min_samples_leaf=3, random_state=42)\n",
    "model_rfc.fit(X_train_scaled, y_train)"
   ]
  },
  {
   "cell_type": "code",
   "execution_count": 37,
   "metadata": {
    "ExecuteTime": {
     "end_time": "2018-01-02T05:50:05.462942Z",
     "start_time": "2018-01-02T05:50:05.437899Z"
    }
   },
   "outputs": [
    {
     "data": {
      "text/plain": [
       "0.94591246903385628"
      ]
     },
     "execution_count": 37,
     "metadata": {},
     "output_type": "execute_result"
    }
   ],
   "source": [
    "# Get score for training set\n",
    "model_rfc.score(X_train_scaled, y_train)"
   ]
  },
  {
   "cell_type": "code",
   "execution_count": 38,
   "metadata": {
    "ExecuteTime": {
     "end_time": "2018-01-02T05:50:16.540064Z",
     "start_time": "2018-01-02T05:50:16.526002Z"
    },
    "scrolled": true
   },
   "outputs": [
    {
     "data": {
      "text/plain": [
       "0.74494706448508186"
      ]
     },
     "execution_count": 38,
     "metadata": {},
     "output_type": "execute_result"
    }
   ],
   "source": [
    "# Get score for test set\n",
    "model_rfc.score(X_test_scaled, y_test)"
   ]
  },
  {
   "cell_type": "markdown",
   "metadata": {},
   "source": [
    "#### Use (Stardardized + PCA) tf-idf vectors as features"
   ]
  },
  {
   "cell_type": "code",
   "execution_count": 39,
   "metadata": {
    "ExecuteTime": {
     "end_time": "2018-01-02T05:51:13.454243Z",
     "start_time": "2018-01-02T05:51:13.262712Z"
    }
   },
   "outputs": [
    {
     "data": {
      "text/plain": [
       "RandomForestClassifier(bootstrap=True, class_weight=None, criterion='gini',\n",
       "            max_depth=None, max_features='auto', max_leaf_nodes=None,\n",
       "            min_impurity_decrease=0.0, min_impurity_split=None,\n",
       "            min_samples_leaf=3, min_samples_split=2,\n",
       "            min_weight_fraction_leaf=0.0, n_estimators=20, n_jobs=1,\n",
       "            oob_score=False, random_state=42, verbose=0, warm_start=False)"
      ]
     },
     "execution_count": 39,
     "metadata": {},
     "output_type": "execute_result"
    }
   ],
   "source": [
    "# Build a Random Forest Classifier\n",
    "\n",
    "from sklearn.ensemble import RandomForestClassifier\n",
    "\n",
    "# To be implemented\n",
    "model_rfc = RandomForestClassifier(max_depth=None, n_estimators=20, min_samples_leaf=3, random_state=42)\n",
    "\n",
    "model_rfc.fit(X_train_pca, y_train)"
   ]
  },
  {
   "cell_type": "code",
   "execution_count": 40,
   "metadata": {
    "ExecuteTime": {
     "end_time": "2018-01-02T05:51:23.777760Z",
     "start_time": "2018-01-02T05:51:23.766256Z"
    }
   },
   "outputs": [
    {
     "data": {
      "text/plain": [
       "0.98637489677952106"
      ]
     },
     "execution_count": 40,
     "metadata": {},
     "output_type": "execute_result"
    }
   ],
   "source": [
    "# Get score for training set\n",
    "model_rfc.score(X_train_pca, y_train)"
   ]
  },
  {
   "cell_type": "code",
   "execution_count": 41,
   "metadata": {
    "ExecuteTime": {
     "end_time": "2018-01-02T05:51:40.990317Z",
     "start_time": "2018-01-02T05:51:40.982272Z"
    }
   },
   "outputs": [
    {
     "data": {
      "text/plain": [
       "0.72088546679499521"
      ]
     },
     "execution_count": 41,
     "metadata": {},
     "output_type": "execute_result"
    }
   ],
   "source": [
    "# Get score for test set, REMEMBER to use PCA-transformed X!\n",
    "model_rfc.score(X_test_pca, y_test)"
   ]
  },
  {
   "cell_type": "markdown",
   "metadata": {},
   "source": [
    "#### Q: What do you see from the training result and the test result?"
   ]
  },
  {
   "cell_type": "markdown",
   "metadata": {},
   "source": [
    "A: (insert your comments here)"
   ]
  },
  {
   "cell_type": "markdown",
   "metadata": {},
   "source": [
    "#### You can plot the feature importances against principal components\n"
   ]
  },
  {
   "cell_type": "code",
   "execution_count": 42,
   "metadata": {
    "ExecuteTime": {
     "end_time": "2018-01-02T05:52:18.764901Z",
     "start_time": "2018-01-02T05:52:18.477989Z"
    }
   },
   "outputs": [
    {
     "data": {
      "image/png": "[encoded data removed]",
      "text/plain": [
       "<matplotlib.figure.Figure at 0x2c233bf3f98>"
      ]
     },
     "metadata": {},
     "output_type": "display_data"
    }
   ],
   "source": [
    "# To be implemented\n",
    "pca_range = np.arange(pca.n_components_) + 1\n",
    "pca_names = ['PC_%s' % i for i in pca_range]\n",
    "\n",
    "df_coeffs = pd.DataFrame(list(zip(pca_names, model_rfc.feature_importances_))).sort_values(by=[1], ascending=False)\n",
    "df_coeffs.columns = ['PCs', 'feature importance']\n",
    "\n",
    "ax = df_coeffs.plot.barh(figsize=(10, 10))\n",
    "t = np.arange(pca.n_components_)\n",
    "ax.set_yticks(t)\n",
    "ax.set_yticklabels(df_coeffs['PCs'])\n",
    "plt.show()"
   ]
  },
  {
   "cell_type": "markdown",
   "metadata": {},
   "source": [
    "## Extra Credit #1: Can you cluster restaurants from their category information?\n",
    "Hint: a business may have mutiple categories, e.g. a restaurant can have both \"Restaurants\" and \"Korean\""
   ]
  },
  {
   "cell_type": "code",
   "execution_count": null,
   "metadata": {
    "collapsed": true
   },
   "outputs": [],
   "source": [
    "# To be implemented"
   ]
  },
  {
   "cell_type": "markdown",
   "metadata": {},
   "source": [
    "## Extra Credit #2: Can you try different distance/similarity metrics for clusterings, e.g. Pearson correlation, Jaccard distance, etc. \n",
    "\n",
    "Hint: You can take a look at [scipy](http://docs.scipy.org/doc/scipy/reference/generated/scipy.spatial.distance.pdist.html#scipy.spatial.distance.pdist) documentations to use other distances\n",
    "\n",
    "#### Q: How do you compare with Cosine distance or Euclidean distance?"
   ]
  },
  {
   "cell_type": "code",
   "execution_count": null,
   "metadata": {
    "collapsed": true
   },
   "outputs": [],
   "source": [
    "# To be implemented"
   ]
  },
  {
   "cell_type": "markdown",
   "metadata": {},
   "source": [
    "## Extra Credit #3: Can you cluster categories from business entities? What does it mean by a cluster?\n",
    "Hint: Think the example where words can be clustered from the transposed tf-idf matrix."
   ]
  },
  {
   "cell_type": "code",
   "execution_count": null,
   "metadata": {
    "collapsed": true
   },
   "outputs": [],
   "source": [
    "# To be implemented"
   ]
  },
  {
   "cell_type": "markdown",
   "metadata": {},
   "source": [
    "## Extra Credit #4: What are the characteristics of each of the clustered  ? For each cluster, which restaurant can best represent (\"define\") its cluster?\n",
    "Hint: how to interpret \"best\"?"
   ]
  },
  {
   "cell_type": "code",
   "execution_count": null,
   "metadata": {
    "collapsed": true
   },
   "outputs": [],
   "source": [
    "# To be implemented"
   ]
  },
  {
   "cell_type": "markdown",
   "metadata": {},
   "source": [
    "## Extra Credit #5: Can you think of other use cases that clustering can be used? \n",
    "Hint: of course you can make use of other yelp dataset. You can try anything you want as long as you can explain it."
   ]
  },
  {
   "cell_type": "code",
   "execution_count": null,
   "metadata": {
    "collapsed": true
   },
   "outputs": [],
   "source": [
    "# To be implemented"
   ]
  },
  {
   "cell_type": "code",
   "execution_count": null,
   "metadata": {
    "collapsed": true
   },
   "outputs": [],
   "source": []
  }
 ],
 "metadata": {
  "anaconda-cloud": {},
  "kernelspec": {
   "display_name": "Python 3",
   "language": "python",
   "name": "python3"
  },
  "language_info": {
   "codemirror_mode": {
    "name": "ipython",
    "version": 3
   },
   "file_extension": ".py",
   "mimetype": "text/x-python",
   "name": "python",
   "nbconvert_exporter": "python",
   "pygments_lexer": "ipython3",
   "version": "3.6.3"
  }
 },
 "nbformat": 4,
 "nbformat_minor": 1
}
